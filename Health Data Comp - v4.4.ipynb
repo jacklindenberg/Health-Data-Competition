{
 "cells": [
  {
   "cell_type": "markdown",
   "id": "c5fc3f3a",
   "metadata": {},
   "source": [
    "# Health Data Competition\n",
    "Grant Barland, Bailey Hill, Jack Lindenberg, Gavin Reynolds\n",
    "\n",
    "Sunday, March 27, 2022"
   ]
  },
  {
   "cell_type": "markdown",
   "id": "b0098075",
   "metadata": {},
   "source": [
    "## 1. Limitations to Methodology\n",
    "1. Different Data Sources provide different date ranges for data collection\n",
    "2. Data Sources do not include data during Covid, so results may differ from present circumstances"
   ]
  },
  {
   "cell_type": "markdown",
   "id": "6cb9d601",
   "metadata": {},
   "source": [
    "## 2. Data Import & Processing"
   ]
  },
  {
   "cell_type": "code",
   "execution_count": 1,
   "id": "8b87850d",
   "metadata": {},
   "outputs": [],
   "source": [
    "# Tools\n",
    "import sklearn\n",
    "import pandas as pd\n",
    "from sklearn.model_selection import train_test_split\n",
    "import matplotlib.pyplot as plt\n",
    "import numpy as np\n",
    "from sklearn import metrics\n",
    "from sklearn.model_selection import GridSearchCV, cross_val_score, KFold, RandomizedSearchCV\n",
    "from matplotlib.colors import ListedColormap\n",
    "from sklearn.metrics import confusion_matrix, accuracy_score, r2_score\n",
    "import seaborn as sns\n",
    "from sklearn.preprocessing import StandardScaler\n",
    "#from yellowbrick.model_selection import learning_curve\n",
    "#from yellowbrick.model_selection import LearningCurve\n",
    "#from yellowbrick.model_selection import validation_curve\n",
    "from xgboost import plot_importance\n",
    "\n",
    "# ML\n",
    "from sklearn.neighbors import KNeighborsRegressor\n",
    "from sklearn.tree import DecisionTreeRegressor\n",
    "from sklearn.linear_model import LinearRegression, RidgeCV, LassoCV, ElasticNetCV, Lasso\n",
    "from sklearn.svm import SVR\n",
    "from sklearn.neural_network import MLPRegressor\n",
    "from sklearn.ensemble import RandomForestRegressor\n",
    "from sklearn.ensemble import AdaBoostRegressor\n",
    "from sklearn.ensemble import VotingRegressor\n",
    "from xgboost import XGBRegressor\n",
    "from numpy import sort\n",
    "from sklearn.feature_selection import SelectFromModel\n",
    "from sklearn.model_selection import train_test_split"
   ]
  },
  {
   "cell_type": "code",
   "execution_count": 53,
   "id": "db9b91eb",
   "metadata": {},
   "outputs": [
    {
     "name": "stdout",
     "output_type": "stream",
     "text": [
      "<class 'pandas.core.frame.DataFrame'>\n",
      "Int64Index: 31340 entries, 3 to 450396\n",
      "Data columns (total 22 columns):\n",
      " #   Column                                 Non-Null Count  Dtype  \n",
      "---  ------                                 --------------  -----  \n",
      " 0   Facility ID                            31340 non-null  object \n",
      " 1   Facility Name                          31340 non-null  object \n",
      " 2   Address                                31340 non-null  object \n",
      " 3   City                                   31340 non-null  object \n",
      " 4   State                                  31340 non-null  object \n",
      " 5   ZIP Code                               31340 non-null  int64  \n",
      " 6   County Name                            31340 non-null  object \n",
      " 7   Phone Number                           31340 non-null  object \n",
      " 8   HCAHPS Measure ID                      31340 non-null  object \n",
      " 9   HCAHPS Question                        31340 non-null  object \n",
      " 10  HCAHPS Answer Description              31340 non-null  object \n",
      " 11  Patient Survey Star Rating             0 non-null      float64\n",
      " 12  Patient Survey Star Rating Footnote    0 non-null      object \n",
      " 13  HCAHPS Answer Percent                  0 non-null      float64\n",
      " 14  HCAHPS Answer Percent Footnote         0 non-null      object \n",
      " 15  HCAHPS Linear Mean Value               31340 non-null  float64\n",
      " 16  Number of Completed Surveys            31320 non-null  float64\n",
      " 17  Number of Completed Surveys Footnote   830 non-null    object \n",
      " 18  Survey Response Rate Percent           31320 non-null  float64\n",
      " 19  Survey Response Rate Percent Footnote  830 non-null    object \n",
      " 20  Start Date                             31340 non-null  object \n",
      " 21  End Date                               31340 non-null  object \n",
      "dtypes: float64(5), int64(1), object(16)\n",
      "memory usage: 5.5+ MB\n"
     ]
    }
   ],
   "source": [
    "# Data Read\n",
    "data = pd.read_csv('HCAHPS-Hospital.csv', na_values=['Not Applicable', 'Not Available'], low_memory=False)\n",
    "data = data.dropna(subset=['HCAHPS Linear Mean Value'])\n",
    "\n",
    "data.info()"
   ]
  },
  {
   "cell_type": "code",
   "execution_count": 40,
   "id": "619402e3",
   "metadata": {},
   "outputs": [
    {
     "name": "stdout",
     "output_type": "stream",
     "text": [
      "1. Nurse communication - linear mean score\n",
      "2. Doctor communication - linear mean score\n",
      "3. Staff responsiveness - linear mean score\n",
      "4. Communication about medicines - linear mean score\n",
      "5. Discharge information - linear mean score\n",
      "6. Care transition - linear mean score\n",
      "7. Cleanliness - linear mean score\n",
      "8. Quietness - linear mean score\n",
      "9. Overall hospital rating - linear mean score\n",
      "10. Recommend hospital - linear mean score\n"
     ]
    }
   ],
   "source": [
    "question_list = data['HCAHPS Question'].unique().tolist()\n",
    "x = 1\n",
    "for i in question_list:\n",
    "    print(f'{x}. {i}')\n",
    "    x += 1"
   ]
  },
  {
   "cell_type": "markdown",
   "id": "d1422abb",
   "metadata": {},
   "source": [
    "**Idea:** Do a regression on survey scores to predict whether they recommend hospital?\n",
    "\n",
    "1. Find the most import features for hospitals to focus on patient experience.\n",
    "2. Introduce external variable like:\n",
    "    - ZIP Code mean income>?\n",
    "    - Hospital Size\n",
    "    - Hospital Revenue\n",
    "    - etc."
   ]
  },
  {
   "cell_type": "code",
   "execution_count": 170,
   "id": "19d37231",
   "metadata": {},
   "outputs": [
    {
     "data": {
      "text/html": [
       "<div>\n",
       "<style scoped>\n",
       "    .dataframe tbody tr th:only-of-type {\n",
       "        vertical-align: middle;\n",
       "    }\n",
       "\n",
       "    .dataframe tbody tr th {\n",
       "        vertical-align: top;\n",
       "    }\n",
       "\n",
       "    .dataframe thead th {\n",
       "        text-align: right;\n",
       "    }\n",
       "</style>\n",
       "<table border=\"1\" class=\"dataframe\">\n",
       "  <thead>\n",
       "    <tr style=\"text-align: right;\">\n",
       "      <th>HCAHPS Question</th>\n",
       "      <th>Facility ID</th>\n",
       "      <th>Care transition</th>\n",
       "      <th>Cleanliness</th>\n",
       "      <th>Communication about medicines</th>\n",
       "      <th>Discharge information</th>\n",
       "      <th>Doctor communication</th>\n",
       "      <th>Nurse communication</th>\n",
       "      <th>Overall hospital rating</th>\n",
       "      <th>Quietness</th>\n",
       "      <th>Recommend hospital - linear mean score</th>\n",
       "      <th>Staff responsiveness</th>\n",
       "      <th>hospital_score</th>\n",
       "    </tr>\n",
       "  </thead>\n",
       "  <tbody>\n",
       "    <tr>\n",
       "      <th>0</th>\n",
       "      <td>010001</td>\n",
       "      <td>81.0</td>\n",
       "      <td>87.0</td>\n",
       "      <td>77.0</td>\n",
       "      <td>89.0</td>\n",
       "      <td>92.0</td>\n",
       "      <td>90.0</td>\n",
       "      <td>88.0</td>\n",
       "      <td>84.0</td>\n",
       "      <td>90.0</td>\n",
       "      <td>81.0</td>\n",
       "      <td>89.0</td>\n",
       "    </tr>\n",
       "    <tr>\n",
       "      <th>1</th>\n",
       "      <td>010005</td>\n",
       "      <td>81.0</td>\n",
       "      <td>83.0</td>\n",
       "      <td>73.0</td>\n",
       "      <td>85.0</td>\n",
       "      <td>93.0</td>\n",
       "      <td>89.0</td>\n",
       "      <td>86.0</td>\n",
       "      <td>85.0</td>\n",
       "      <td>84.0</td>\n",
       "      <td>74.0</td>\n",
       "      <td>85.0</td>\n",
       "    </tr>\n",
       "    <tr>\n",
       "      <th>2</th>\n",
       "      <td>010006</td>\n",
       "      <td>77.0</td>\n",
       "      <td>77.0</td>\n",
       "      <td>72.0</td>\n",
       "      <td>84.0</td>\n",
       "      <td>90.0</td>\n",
       "      <td>86.0</td>\n",
       "      <td>82.0</td>\n",
       "      <td>84.0</td>\n",
       "      <td>82.0</td>\n",
       "      <td>72.0</td>\n",
       "      <td>82.0</td>\n",
       "    </tr>\n",
       "    <tr>\n",
       "      <th>3</th>\n",
       "      <td>010007</td>\n",
       "      <td>80.0</td>\n",
       "      <td>86.0</td>\n",
       "      <td>89.0</td>\n",
       "      <td>90.0</td>\n",
       "      <td>94.0</td>\n",
       "      <td>94.0</td>\n",
       "      <td>87.0</td>\n",
       "      <td>86.0</td>\n",
       "      <td>85.0</td>\n",
       "      <td>87.0</td>\n",
       "      <td>86.0</td>\n",
       "    </tr>\n",
       "    <tr>\n",
       "      <th>4</th>\n",
       "      <td>010011</td>\n",
       "      <td>81.0</td>\n",
       "      <td>83.0</td>\n",
       "      <td>77.0</td>\n",
       "      <td>86.0</td>\n",
       "      <td>91.0</td>\n",
       "      <td>90.0</td>\n",
       "      <td>87.0</td>\n",
       "      <td>82.0</td>\n",
       "      <td>88.0</td>\n",
       "      <td>83.0</td>\n",
       "      <td>87.5</td>\n",
       "    </tr>\n",
       "  </tbody>\n",
       "</table>\n",
       "</div>"
      ],
      "text/plain": [
       "HCAHPS Question Facility ID  Care transition  Cleanliness  \\\n",
       "0                    010001             81.0         87.0   \n",
       "1                    010005             81.0         83.0   \n",
       "2                    010006             77.0         77.0   \n",
       "3                    010007             80.0         86.0   \n",
       "4                    010011             81.0         83.0   \n",
       "\n",
       "HCAHPS Question  Communication about medicines  Discharge information  \\\n",
       "0                                         77.0                   89.0   \n",
       "1                                         73.0                   85.0   \n",
       "2                                         72.0                   84.0   \n",
       "3                                         89.0                   90.0   \n",
       "4                                         77.0                   86.0   \n",
       "\n",
       "HCAHPS Question  Doctor communication  Nurse communication  \\\n",
       "0                                92.0                 90.0   \n",
       "1                                93.0                 89.0   \n",
       "2                                90.0                 86.0   \n",
       "3                                94.0                 94.0   \n",
       "4                                91.0                 90.0   \n",
       "\n",
       "HCAHPS Question  Overall hospital rating  Quietness  \\\n",
       "0                                   88.0       84.0   \n",
       "1                                   86.0       85.0   \n",
       "2                                   82.0       84.0   \n",
       "3                                   87.0       86.0   \n",
       "4                                   87.0       82.0   \n",
       "\n",
       "HCAHPS Question  Recommend hospital - linear mean score  Staff responsiveness  \\\n",
       "0                                                  90.0                  81.0   \n",
       "1                                                  84.0                  74.0   \n",
       "2                                                  82.0                  72.0   \n",
       "3                                                  85.0                  87.0   \n",
       "4                                                  88.0                  83.0   \n",
       "\n",
       "HCAHPS Question  hospital_score  \n",
       "0                          89.0  \n",
       "1                          85.0  \n",
       "2                          82.0  \n",
       "3                          86.0  \n",
       "4                          87.5  "
      ]
     },
     "execution_count": 170,
     "metadata": {},
     "output_type": "execute_result"
    }
   ],
   "source": [
    "# Data Processing for Modeling\n",
    "\n",
    "# Pivot columns\n",
    "df = data.pivot_table(index=\"Facility ID\", columns=\"HCAHPS Question\", values=\"HCAHPS Linear Mean Value\")\n",
    "df.reset_index(inplace=True)\n",
    "\n",
    "# Create Target - average of 'recommend' and 'rating'\n",
    "df['hospital_score'] = (df['Overall hospital rating - linear mean score'] + df['Recommend hospital - linear mean score']) / 2\n",
    "\n",
    "df = df.rename(columns={'Care transition - linear mean score':'Care transition','Cleanliness - linear mean score':'Cleanliness','Communication about medicines - linear mean score':'Communication about medicines','Discharge information - linear mean score':'Discharge information','Doctor communication - linear mean score':'Doctor communication','Nurse communication - linear mean score':'Nurse communication','Overall hospital rating - linear mean score':'Overall hospital rating','Quietness - linear mean score':'Quietness','Staff responsiveness - linear mean score':'Staff responsiveness'})\n",
    "df.head()"
   ]
  },
  {
   "cell_type": "code",
   "execution_count": 171,
   "id": "a5b4af90",
   "metadata": {},
   "outputs": [],
   "source": [
    "# Set predictor and target features\n",
    "X = df.drop(columns=['Facility ID',\n",
    "                     'Overall hospital rating',\n",
    "                     'Recommend hospital - linear mean score',\n",
    "                     'hospital_score'])\n",
    "\n",
    "y = df.hospital_score\n",
    "X_train, X_test, y_train, y_test = train_test_split(X, y, test_size=0.33, random_state=42)"
   ]
  },
  {
   "cell_type": "markdown",
   "id": "6fa447d2",
   "metadata": {},
   "source": [
    "### Correlation Between Features"
   ]
  },
  {
   "cell_type": "code",
   "execution_count": 172,
   "id": "cf570352",
   "metadata": {},
   "outputs": [
    {
     "data": {
      "image/png": "[encoded data removed]",
      "text/plain": [
       "<Figure size 432x288 with 2 Axes>"
      ]
     },
     "metadata": {
      "needs_background": "light"
     },
     "output_type": "display_data"
    }
   ],
   "source": [
    "corr = X.corr()\n",
    "ax = sns.heatmap(\n",
    "    corr, \n",
    "    vmin=-1, vmax=1, center=0,\n",
    "    cmap=sns.diverging_palette(20, 220, n=200),\n",
    "    square=True\n",
    ")\n",
    "ax.set_xticklabels(\n",
    "    ax.get_xticklabels(),\n",
    "    rotation=45,\n",
    "    horizontalalignment='right'\n",
    ");"
   ]
  },
  {
   "cell_type": "markdown",
   "id": "7ef9e3a9",
   "metadata": {},
   "source": [
    "## 3. Initial Modeling"
   ]
  },
  {
   "cell_type": "code",
   "execution_count": 28,
   "id": "8ea2a442",
   "metadata": {},
   "outputs": [
    {
     "name": "stdout",
     "output_type": "stream",
     "text": [
      "Fitting 5 folds for each of 36 candidates, totalling 180 fits\n",
      "[23:11:43] WARNING: C:/Users/Administrator/workspace/xgboost-win64_release_1.5.1/src/learner.cc:223: No visible GPU is found, setting `gpu_id` to -1\n"
     ]
    },
    {
     "name": "stderr",
     "output_type": "stream",
     "text": [
      "C:\\Users\\baile\\anaconda3\\lib\\site-packages\\sklearn\\model_selection\\_search.py:925: UserWarning: One or more of the test scores are non-finite: [nan nan nan nan nan nan nan nan nan nan nan nan nan nan nan nan nan nan\n",
      " nan nan nan nan nan nan nan nan nan nan nan nan nan nan nan nan nan nan]\n",
      "  if y is not None:\n"
     ]
    },
    {
     "ename": "XGBoostError",
     "evalue": "[23:11:43] C:/Users/Administrator/workspace/xgboost-win64_release_1.5.1/src/gbm/gbtree.cc:588: Check failed: common::AllVisibleGPUs() >= 1 (0 vs. 1) : No visible GPU is found for XGBoost.",
     "output_type": "error",
     "traceback": [
      "\u001b[1;31m---------------------------------------------------------------------------\u001b[0m",
      "\u001b[1;31mXGBoostError\u001b[0m                              Traceback (most recent call last)",
      "\u001b[1;32m<ipython-input-28-e197c108372e>\u001b[0m in \u001b[0;36m<module>\u001b[1;34m\u001b[0m\n\u001b[0;32m     11\u001b[0m \u001b[1;33m\u001b[0m\u001b[0m\n\u001b[0;32m     12\u001b[0m \u001b[0mxgb_gs\u001b[0m \u001b[1;33m=\u001b[0m \u001b[0mGridSearchCV\u001b[0m\u001b[1;33m(\u001b[0m\u001b[0mxgb\u001b[0m\u001b[1;33m,\u001b[0m \u001b[0mparams\u001b[0m\u001b[1;33m,\u001b[0m \u001b[0mcv\u001b[0m\u001b[1;33m=\u001b[0m\u001b[1;36m5\u001b[0m\u001b[1;33m,\u001b[0m \u001b[0mverbose\u001b[0m\u001b[1;33m=\u001b[0m\u001b[1;36m1\u001b[0m\u001b[1;33m,\u001b[0m \u001b[0mn_jobs\u001b[0m\u001b[1;33m=\u001b[0m\u001b[1;33m-\u001b[0m\u001b[1;36m1\u001b[0m\u001b[1;33m,\u001b[0m \u001b[0mscoring\u001b[0m\u001b[1;33m=\u001b[0m\u001b[1;34m'r2'\u001b[0m\u001b[1;33m)\u001b[0m\u001b[1;33m\u001b[0m\u001b[1;33m\u001b[0m\u001b[0m\n\u001b[1;32m---> 13\u001b[1;33m \u001b[0mxgb_gs\u001b[0m\u001b[1;33m.\u001b[0m\u001b[0mfit\u001b[0m\u001b[1;33m(\u001b[0m\u001b[0mX\u001b[0m\u001b[1;33m,\u001b[0m \u001b[0my\u001b[0m\u001b[1;33m)\u001b[0m\u001b[1;33m\u001b[0m\u001b[1;33m\u001b[0m\u001b[0m\n\u001b[0m\u001b[0;32m     14\u001b[0m \u001b[1;33m\u001b[0m\u001b[0m\n\u001b[0;32m     15\u001b[0m \u001b[0mxgb_best\u001b[0m \u001b[1;33m=\u001b[0m \u001b[0mxgb_gs\u001b[0m\u001b[1;33m.\u001b[0m\u001b[0mbest_estimator_\u001b[0m\u001b[1;33m\u001b[0m\u001b[1;33m\u001b[0m\u001b[0m\n",
      "\u001b[1;32m~\\anaconda3\\lib\\site-packages\\sklearn\\utils\\validation.py\u001b[0m in \u001b[0;36minner_f\u001b[1;34m(*args, **kwargs)\u001b[0m\n\u001b[0;32m     61\u001b[0m         \u001b[1;33m@\u001b[0m\u001b[0mwraps\u001b[0m\u001b[1;33m(\u001b[0m\u001b[0mf\u001b[0m\u001b[1;33m)\u001b[0m\u001b[1;33m\u001b[0m\u001b[1;33m\u001b[0m\u001b[0m\n\u001b[0;32m     62\u001b[0m         \u001b[1;32mdef\u001b[0m \u001b[0minner_f\u001b[0m\u001b[1;33m(\u001b[0m\u001b[1;33m*\u001b[0m\u001b[0margs\u001b[0m\u001b[1;33m,\u001b[0m \u001b[1;33m**\u001b[0m\u001b[0mkwargs\u001b[0m\u001b[1;33m)\u001b[0m\u001b[1;33m:\u001b[0m\u001b[1;33m\u001b[0m\u001b[1;33m\u001b[0m\u001b[0m\n\u001b[1;32m---> 63\u001b[1;33m             \u001b[0mextra_args\u001b[0m \u001b[1;33m=\u001b[0m \u001b[0mlen\u001b[0m\u001b[1;33m(\u001b[0m\u001b[0margs\u001b[0m\u001b[1;33m)\u001b[0m \u001b[1;33m-\u001b[0m \u001b[0mlen\u001b[0m\u001b[1;33m(\u001b[0m\u001b[0mall_args\u001b[0m\u001b[1;33m)\u001b[0m\u001b[1;33m\u001b[0m\u001b[1;33m\u001b[0m\u001b[0m\n\u001b[0m\u001b[0;32m     64\u001b[0m             \u001b[1;32mif\u001b[0m \u001b[0mextra_args\u001b[0m \u001b[1;33m<=\u001b[0m \u001b[1;36m0\u001b[0m\u001b[1;33m:\u001b[0m\u001b[1;33m\u001b[0m\u001b[1;33m\u001b[0m\u001b[0m\n\u001b[0;32m     65\u001b[0m                 \u001b[1;32mreturn\u001b[0m \u001b[0mf\u001b[0m\u001b[1;33m(\u001b[0m\u001b[1;33m*\u001b[0m\u001b[0margs\u001b[0m\u001b[1;33m,\u001b[0m \u001b[1;33m**\u001b[0m\u001b[0mkwargs\u001b[0m\u001b[1;33m)\u001b[0m\u001b[1;33m\u001b[0m\u001b[1;33m\u001b[0m\u001b[0m\n",
      "\u001b[1;32m~\\anaconda3\\lib\\site-packages\\sklearn\\model_selection\\_search.py\u001b[0m in \u001b[0;36mfit\u001b[1;34m(self, X, y, groups, **fit_params)\u001b[0m\n\u001b[0;32m    878\u001b[0m                 \u001b[0mall_out\u001b[0m\u001b[1;33m.\u001b[0m\u001b[0mextend\u001b[0m\u001b[1;33m(\u001b[0m\u001b[0mout\u001b[0m\u001b[1;33m)\u001b[0m\u001b[1;33m\u001b[0m\u001b[1;33m\u001b[0m\u001b[0m\n\u001b[0;32m    879\u001b[0m \u001b[1;33m\u001b[0m\u001b[0m\n\u001b[1;32m--> 880\u001b[1;33m                 \u001b[1;32mif\u001b[0m \u001b[0mmore_results\u001b[0m \u001b[1;32mis\u001b[0m \u001b[1;32mnot\u001b[0m \u001b[1;32mNone\u001b[0m\u001b[1;33m:\u001b[0m\u001b[1;33m\u001b[0m\u001b[1;33m\u001b[0m\u001b[0m\n\u001b[0m\u001b[0;32m    881\u001b[0m                     \u001b[1;32mfor\u001b[0m \u001b[0mkey\u001b[0m\u001b[1;33m,\u001b[0m \u001b[0mvalue\u001b[0m \u001b[1;32min\u001b[0m \u001b[0mmore_results\u001b[0m\u001b[1;33m.\u001b[0m\u001b[0mitems\u001b[0m\u001b[1;33m(\u001b[0m\u001b[1;33m)\u001b[0m\u001b[1;33m:\u001b[0m\u001b[1;33m\u001b[0m\u001b[1;33m\u001b[0m\u001b[0m\n\u001b[0;32m    882\u001b[0m                         \u001b[0mall_more_results\u001b[0m\u001b[1;33m[\u001b[0m\u001b[0mkey\u001b[0m\u001b[1;33m]\u001b[0m\u001b[1;33m.\u001b[0m\u001b[0mextend\u001b[0m\u001b[1;33m(\u001b[0m\u001b[0mvalue\u001b[0m\u001b[1;33m)\u001b[0m\u001b[1;33m\u001b[0m\u001b[1;33m\u001b[0m\u001b[0m\n",
      "\u001b[1;32m~\\anaconda3\\lib\\site-packages\\xgboost\\core.py\u001b[0m in \u001b[0;36minner_f\u001b[1;34m(*args, **kwargs)\u001b[0m\n\u001b[0;32m    504\u001b[0m         \u001b[1;32mfor\u001b[0m \u001b[0mk\u001b[0m\u001b[1;33m,\u001b[0m \u001b[0marg\u001b[0m \u001b[1;32min\u001b[0m \u001b[0mzip\u001b[0m\u001b[1;33m(\u001b[0m\u001b[0msig\u001b[0m\u001b[1;33m.\u001b[0m\u001b[0mparameters\u001b[0m\u001b[1;33m,\u001b[0m \u001b[0margs\u001b[0m\u001b[1;33m)\u001b[0m\u001b[1;33m:\u001b[0m\u001b[1;33m\u001b[0m\u001b[1;33m\u001b[0m\u001b[0m\n\u001b[0;32m    505\u001b[0m             \u001b[0mkwargs\u001b[0m\u001b[1;33m[\u001b[0m\u001b[0mk\u001b[0m\u001b[1;33m]\u001b[0m \u001b[1;33m=\u001b[0m \u001b[0marg\u001b[0m\u001b[1;33m\u001b[0m\u001b[1;33m\u001b[0m\u001b[0m\n\u001b[1;32m--> 506\u001b[1;33m         \u001b[1;32mreturn\u001b[0m \u001b[0mf\u001b[0m\u001b[1;33m(\u001b[0m\u001b[1;33m**\u001b[0m\u001b[0mkwargs\u001b[0m\u001b[1;33m)\u001b[0m\u001b[1;33m\u001b[0m\u001b[1;33m\u001b[0m\u001b[0m\n\u001b[0m\u001b[0;32m    507\u001b[0m \u001b[1;33m\u001b[0m\u001b[0m\n\u001b[0;32m    508\u001b[0m     \u001b[1;32mreturn\u001b[0m \u001b[0minner_f\u001b[0m\u001b[1;33m\u001b[0m\u001b[1;33m\u001b[0m\u001b[0m\n",
      "\u001b[1;32m~\\anaconda3\\lib\\site-packages\\xgboost\\sklearn.py\u001b[0m in \u001b[0;36mfit\u001b[1;34m(self, X, y, sample_weight, base_margin, eval_set, eval_metric, early_stopping_rounds, verbose, xgb_model, sample_weight_eval_set, base_margin_eval_set, feature_weights, callbacks)\u001b[0m\n\u001b[0;32m    798\u001b[0m             \u001b[0mverbose_eval\u001b[0m\u001b[1;33m=\u001b[0m\u001b[0mverbose\u001b[0m\u001b[1;33m,\u001b[0m\u001b[1;33m\u001b[0m\u001b[1;33m\u001b[0m\u001b[0m\n\u001b[0;32m    799\u001b[0m             \u001b[0mxgb_model\u001b[0m\u001b[1;33m=\u001b[0m\u001b[0mmodel\u001b[0m\u001b[1;33m,\u001b[0m\u001b[1;33m\u001b[0m\u001b[1;33m\u001b[0m\u001b[0m\n\u001b[1;32m--> 800\u001b[1;33m             \u001b[0mcallbacks\u001b[0m\u001b[1;33m=\u001b[0m\u001b[0mcallbacks\u001b[0m\u001b[1;33m,\u001b[0m\u001b[1;33m\u001b[0m\u001b[1;33m\u001b[0m\u001b[0m\n\u001b[0m\u001b[0;32m    801\u001b[0m         )\n\u001b[0;32m    802\u001b[0m \u001b[1;33m\u001b[0m\u001b[0m\n",
      "\u001b[1;32m~\\anaconda3\\lib\\site-packages\\xgboost\\training.py\u001b[0m in \u001b[0;36mtrain\u001b[1;34m(params, dtrain, num_boost_round, evals, obj, feval, maximize, early_stopping_rounds, evals_result, verbose_eval, xgb_model, callbacks)\u001b[0m\n\u001b[0;32m    194\u001b[0m                           \u001b[0mevals_result\u001b[0m\u001b[1;33m=\u001b[0m\u001b[0mevals_result\u001b[0m\u001b[1;33m,\u001b[0m\u001b[1;33m\u001b[0m\u001b[1;33m\u001b[0m\u001b[0m\n\u001b[0;32m    195\u001b[0m                           \u001b[0mmaximize\u001b[0m\u001b[1;33m=\u001b[0m\u001b[0mmaximize\u001b[0m\u001b[1;33m,\u001b[0m\u001b[1;33m\u001b[0m\u001b[1;33m\u001b[0m\u001b[0m\n\u001b[1;32m--> 196\u001b[1;33m                           early_stopping_rounds=early_stopping_rounds)\n\u001b[0m\u001b[0;32m    197\u001b[0m     \u001b[1;32mreturn\u001b[0m \u001b[0mbst\u001b[0m\u001b[1;33m\u001b[0m\u001b[1;33m\u001b[0m\u001b[0m\n\u001b[0;32m    198\u001b[0m \u001b[1;33m\u001b[0m\u001b[0m\n",
      "\u001b[1;32m~\\anaconda3\\lib\\site-packages\\xgboost\\training.py\u001b[0m in \u001b[0;36m_train_internal\u001b[1;34m(params, dtrain, num_boost_round, evals, obj, feval, xgb_model, callbacks, evals_result, maximize, verbose_eval, early_stopping_rounds)\u001b[0m\n\u001b[0;32m     79\u001b[0m         \u001b[1;32mif\u001b[0m \u001b[0mcallbacks\u001b[0m\u001b[1;33m.\u001b[0m\u001b[0mbefore_iteration\u001b[0m\u001b[1;33m(\u001b[0m\u001b[0mbst\u001b[0m\u001b[1;33m,\u001b[0m \u001b[0mi\u001b[0m\u001b[1;33m,\u001b[0m \u001b[0mdtrain\u001b[0m\u001b[1;33m,\u001b[0m \u001b[0mevals\u001b[0m\u001b[1;33m)\u001b[0m\u001b[1;33m:\u001b[0m\u001b[1;33m\u001b[0m\u001b[1;33m\u001b[0m\u001b[0m\n\u001b[0;32m     80\u001b[0m             \u001b[1;32mbreak\u001b[0m\u001b[1;33m\u001b[0m\u001b[1;33m\u001b[0m\u001b[0m\n\u001b[1;32m---> 81\u001b[1;33m         \u001b[0mbst\u001b[0m\u001b[1;33m.\u001b[0m\u001b[0mupdate\u001b[0m\u001b[1;33m(\u001b[0m\u001b[0mdtrain\u001b[0m\u001b[1;33m,\u001b[0m \u001b[0mi\u001b[0m\u001b[1;33m,\u001b[0m \u001b[0mobj\u001b[0m\u001b[1;33m)\u001b[0m\u001b[1;33m\u001b[0m\u001b[1;33m\u001b[0m\u001b[0m\n\u001b[0m\u001b[0;32m     82\u001b[0m         \u001b[1;32mif\u001b[0m \u001b[0mcallbacks\u001b[0m\u001b[1;33m.\u001b[0m\u001b[0mafter_iteration\u001b[0m\u001b[1;33m(\u001b[0m\u001b[0mbst\u001b[0m\u001b[1;33m,\u001b[0m \u001b[0mi\u001b[0m\u001b[1;33m,\u001b[0m \u001b[0mdtrain\u001b[0m\u001b[1;33m,\u001b[0m \u001b[0mevals\u001b[0m\u001b[1;33m)\u001b[0m\u001b[1;33m:\u001b[0m\u001b[1;33m\u001b[0m\u001b[1;33m\u001b[0m\u001b[0m\n\u001b[0;32m     83\u001b[0m             \u001b[1;32mbreak\u001b[0m\u001b[1;33m\u001b[0m\u001b[1;33m\u001b[0m\u001b[0m\n",
      "\u001b[1;32m~\\anaconda3\\lib\\site-packages\\xgboost\\core.py\u001b[0m in \u001b[0;36mupdate\u001b[1;34m(self, dtrain, iteration, fobj)\u001b[0m\n\u001b[0;32m   1680\u001b[0m             _check_call(_LIB.XGBoosterUpdateOneIter(self.handle,\n\u001b[0;32m   1681\u001b[0m                                                     \u001b[0mctypes\u001b[0m\u001b[1;33m.\u001b[0m\u001b[0mc_int\u001b[0m\u001b[1;33m(\u001b[0m\u001b[0miteration\u001b[0m\u001b[1;33m)\u001b[0m\u001b[1;33m,\u001b[0m\u001b[1;33m\u001b[0m\u001b[1;33m\u001b[0m\u001b[0m\n\u001b[1;32m-> 1682\u001b[1;33m                                                     dtrain.handle))\n\u001b[0m\u001b[0;32m   1683\u001b[0m         \u001b[1;32melse\u001b[0m\u001b[1;33m:\u001b[0m\u001b[1;33m\u001b[0m\u001b[1;33m\u001b[0m\u001b[0m\n\u001b[0;32m   1684\u001b[0m             \u001b[0mpred\u001b[0m \u001b[1;33m=\u001b[0m \u001b[0mself\u001b[0m\u001b[1;33m.\u001b[0m\u001b[0mpredict\u001b[0m\u001b[1;33m(\u001b[0m\u001b[0mdtrain\u001b[0m\u001b[1;33m,\u001b[0m \u001b[0moutput_margin\u001b[0m\u001b[1;33m=\u001b[0m\u001b[1;32mTrue\u001b[0m\u001b[1;33m,\u001b[0m \u001b[0mtraining\u001b[0m\u001b[1;33m=\u001b[0m\u001b[1;32mTrue\u001b[0m\u001b[1;33m)\u001b[0m\u001b[1;33m\u001b[0m\u001b[1;33m\u001b[0m\u001b[0m\n",
      "\u001b[1;32m~\\anaconda3\\lib\\site-packages\\xgboost\\core.py\u001b[0m in \u001b[0;36m_check_call\u001b[1;34m(ret)\u001b[0m\n\u001b[0;32m    216\u001b[0m     \"\"\"\n\u001b[0;32m    217\u001b[0m     \u001b[1;32mif\u001b[0m \u001b[0mret\u001b[0m \u001b[1;33m!=\u001b[0m \u001b[1;36m0\u001b[0m\u001b[1;33m:\u001b[0m\u001b[1;33m\u001b[0m\u001b[1;33m\u001b[0m\u001b[0m\n\u001b[1;32m--> 218\u001b[1;33m         \u001b[1;32mraise\u001b[0m \u001b[0mXGBoostError\u001b[0m\u001b[1;33m(\u001b[0m\u001b[0mpy_str\u001b[0m\u001b[1;33m(\u001b[0m\u001b[0m_LIB\u001b[0m\u001b[1;33m.\u001b[0m\u001b[0mXGBGetLastError\u001b[0m\u001b[1;33m(\u001b[0m\u001b[1;33m)\u001b[0m\u001b[1;33m)\u001b[0m\u001b[1;33m)\u001b[0m\u001b[1;33m\u001b[0m\u001b[1;33m\u001b[0m\u001b[0m\n\u001b[0m\u001b[0;32m    219\u001b[0m \u001b[1;33m\u001b[0m\u001b[0m\n\u001b[0;32m    220\u001b[0m \u001b[1;33m\u001b[0m\u001b[0m\n",
      "\u001b[1;31mXGBoostError\u001b[0m: [23:11:43] C:/Users/Administrator/workspace/xgboost-win64_release_1.5.1/src/gbm/gbtree.cc:588: Check failed: common::AllVisibleGPUs() >= 1 (0 vs. 1) : No visible GPU is found for XGBoost."
     ]
    }
   ],
   "source": [
    "# XGBoost Regressor\n",
    "xgb = XGBRegressor(n_jobs=-1, tree_method='gpu_hist')\n",
    "\n",
    "params = {\n",
    "    'n_estimators': [300, 400],\n",
    "    'max_depth': [2, 3],\n",
    "    'learning_rate': [0.02, 0.08, 0.05],\n",
    "    'subsample': [0.75, 0.8, 0.9],\n",
    "    'colsample_bytree': [1]\n",
    "}\n",
    "\n",
    "xgb_gs = GridSearchCV(xgb, params, cv=5, verbose=1, n_jobs=-1, scoring='r2')\n",
    "xgb_gs.fit(X, y)\n",
    "\n",
    "xgb_best = xgb_gs.best_estimator_\n",
    "\n",
    "print(f\"Best params = {xgb_gs.best_params_}\")\n",
    "print(f\"Best score = {xgb_gs.best_score_}\")"
   ]
  },
  {
   "cell_type": "markdown",
   "id": "a7db20d0",
   "metadata": {},
   "source": [
    "### Non-gpu model with best parameters"
   ]
  },
  {
   "cell_type": "code",
   "execution_count": 173,
   "id": "c9de4b85",
   "metadata": {},
   "outputs": [],
   "source": [
    "parameters = {'colsample_bytree': 1, 'learning_rate': 0.05, 'max_depth': 2, 'n_estimators': 400, 'subsample': 0.8}\n",
    "xgb_best = XGBRegressor(**parameters)"
   ]
  },
  {
   "cell_type": "code",
   "execution_count": 174,
   "id": "899f48b6",
   "metadata": {},
   "outputs": [
    {
     "name": "stdout",
     "output_type": "stream",
     "text": [
      "[0.52755505 0.05235527 0.01428115 0.01862424 0.04813996 0.30138883\n",
      " 0.0196848  0.01797071]\n"
     ]
    },
    {
     "data": {
      "image/png": "[encoded data removed]",
      "text/plain": [
       "<Figure size 432x288 with 1 Axes>"
      ]
     },
     "metadata": {
      "needs_background": "light"
     },
     "output_type": "display_data"
    }
   ],
   "source": [
    "xgb_best.fit(X_train, y_train)\n",
    "# feature importance\n",
    "print(xgb_best.feature_importances_)\n",
    "# plot\n",
    "plot_importance(xgb_best)\n",
    "plt.show()"
   ]
  },
  {
   "cell_type": "code",
   "execution_count": 35,
   "id": "994bcf77",
   "metadata": {},
   "outputs": [
    {
     "ename": "NameError",
     "evalue": "name 'LearningCurve' is not defined",
     "output_type": "error",
     "traceback": [
      "\u001b[1;31m---------------------------------------------------------------------------\u001b[0m",
      "\u001b[1;31mNameError\u001b[0m                                 Traceback (most recent call last)",
      "\u001b[1;32m<ipython-input-35-8b7e60c110cc>\u001b[0m in \u001b[0;36m<module>\u001b[1;34m\u001b[0m\n\u001b[1;32m----> 1\u001b[1;33m \u001b[0mvisualizer\u001b[0m \u001b[1;33m=\u001b[0m \u001b[0mLearningCurve\u001b[0m\u001b[1;33m(\u001b[0m\u001b[0mxgb_best\u001b[0m\u001b[1;33m,\u001b[0m \u001b[0mscoring\u001b[0m\u001b[1;33m=\u001b[0m\u001b[1;34m'r2'\u001b[0m\u001b[1;33m)\u001b[0m\u001b[1;33m\u001b[0m\u001b[1;33m\u001b[0m\u001b[0m\n\u001b[0m\u001b[0;32m      2\u001b[0m \u001b[0mvisualizer\u001b[0m\u001b[1;33m.\u001b[0m\u001b[0mfit\u001b[0m\u001b[1;33m(\u001b[0m\u001b[0mX\u001b[0m\u001b[1;33m,\u001b[0m \u001b[0my\u001b[0m\u001b[1;33m)\u001b[0m\u001b[1;33m\u001b[0m\u001b[1;33m\u001b[0m\u001b[0m\n\u001b[0;32m      3\u001b[0m \u001b[0mvisualizer\u001b[0m\u001b[1;33m.\u001b[0m\u001b[0mshow\u001b[0m\u001b[1;33m(\u001b[0m\u001b[1;33m)\u001b[0m\u001b[1;33m\u001b[0m\u001b[1;33m\u001b[0m\u001b[0m\n",
      "\u001b[1;31mNameError\u001b[0m: name 'LearningCurve' is not defined"
     ]
    }
   ],
   "source": [
    "visualizer = LearningCurve(xgb_best, scoring='r2')\n",
    "visualizer.fit(X, y)\n",
    "visualizer.show()"
   ]
  },
  {
   "cell_type": "markdown",
   "id": "ad9cc46c",
   "metadata": {},
   "source": [
    "## 4. Introduce External Data Sources\n",
    "1. Hospital Medicare Spending\n",
    "    - Does a hospital spend more or less than the national average"
   ]
  },
  {
   "cell_type": "code",
   "execution_count": 7,
   "id": "c64ed314",
   "metadata": {},
   "outputs": [
    {
     "name": "stdout",
     "output_type": "stream",
     "text": [
      "<class 'pandas.core.frame.DataFrame'>\n",
      "RangeIndex: 3046 entries, 0 to 3045\n",
      "Data columns (total 2 columns):\n",
      " #   Column          Non-Null Count  Dtype  \n",
      "---  ------          --------------  -----  \n",
      " 0   Facility ID     3046 non-null   object \n",
      " 1   Medicare_Spend  2511 non-null   float64\n",
      "dtypes: float64(1), object(1)\n",
      "memory usage: 47.7+ KB\n"
     ]
    }
   ],
   "source": [
    "medicare_data = pd.read_csv('HOSPITAL_QUARTERLY_MSPB_6_DECIMALS.csv', na_values=['Not Applicable', 'Not Available'],\n",
    "                           usecols=[0, 2])\n",
    "\n",
    "medicare_data.rename(columns={\"Value\": \"Medicare_Spend\"}, inplace=True)\n",
    "medicare_data['Facility ID'] = medicare_data['Facility ID'].astype(str)\n",
    "medicare_data.info()"
   ]
  },
  {
   "cell_type": "markdown",
   "id": "e0aff32d",
   "metadata": {},
   "source": [
    "___\n",
    "2. Unplanned Hospital Visits\n",
    "    - How does a hospital score for unplanned visits following procedures"
   ]
  },
  {
   "cell_type": "code",
   "execution_count": 48,
   "id": "c2c0708b",
   "metadata": {},
   "outputs": [
    {
     "data": {
      "text/html": [
       "<div>\n",
       "<style scoped>\n",
       "    .dataframe tbody tr th:only-of-type {\n",
       "        vertical-align: middle;\n",
       "    }\n",
       "\n",
       "    .dataframe tbody tr th {\n",
       "        vertical-align: top;\n",
       "    }\n",
       "\n",
       "    .dataframe thead th {\n",
       "        text-align: right;\n",
       "    }\n",
       "</style>\n",
       "<table border=\"1\" class=\"dataframe\">\n",
       "  <thead>\n",
       "    <tr style=\"text-align: right;\">\n",
       "      <th>Measure ID</th>\n",
       "      <th>Unplanned_Score</th>\n",
       "    </tr>\n",
       "    <tr>\n",
       "      <th>Facility ID</th>\n",
       "      <th></th>\n",
       "    </tr>\n",
       "  </thead>\n",
       "  <tbody>\n",
       "    <tr>\n",
       "      <th>010001</th>\n",
       "      <td>10.664286</td>\n",
       "    </tr>\n",
       "    <tr>\n",
       "      <th>010005</th>\n",
       "      <td>9.730769</td>\n",
       "    </tr>\n",
       "    <tr>\n",
       "      <th>010006</th>\n",
       "      <td>12.450000</td>\n",
       "    </tr>\n",
       "    <tr>\n",
       "      <th>010007</th>\n",
       "      <td>14.262500</td>\n",
       "    </tr>\n",
       "    <tr>\n",
       "      <th>010008</th>\n",
       "      <td>13.880000</td>\n",
       "    </tr>\n",
       "  </tbody>\n",
       "</table>\n",
       "</div>"
      ],
      "text/plain": [
       "Measure ID   Unplanned_Score\n",
       "Facility ID                 \n",
       "010001             10.664286\n",
       "010005              9.730769\n",
       "010006             12.450000\n",
       "010007             14.262500\n",
       "010008             13.880000"
      ]
     },
     "execution_count": 48,
     "metadata": {},
     "output_type": "execute_result"
    }
   ],
   "source": [
    "unplanned_data = pd.read_csv('C:/Users/baile/Downloads/Unplanned_Hospital_Visits-Hospital.csv', na_values=['Not Applicable', 'Not Available'],\n",
    "                            low_memory=False, usecols=[0, 8, 12])\n",
    "\n",
    "unplanned_data = unplanned_data.pivot_table(index=\"Facility ID\", columns=\"Measure ID\", values=\"Score\")\n",
    "unplanned_data['Unplanned_Score'] = unplanned_data.mean(axis=1)\n",
    "#unplanned_data.reset_index(inplace=True)\n",
    "unplanned_data = unplanned_data[['Unplanned_Score']]\n",
    "\n",
    "unplanned_data.head()"
   ]
  },
  {
   "cell_type": "markdown",
   "id": "0ed13604",
   "metadata": {},
   "source": [
    "___\n",
    "3. Income by Zip Code"
   ]
  },
  {
   "cell_type": "code",
   "execution_count": 38,
   "id": "876c2e96",
   "metadata": {},
   "outputs": [
    {
     "data": {
      "text/html": [
       "<div>\n",
       "<style scoped>\n",
       "    .dataframe tbody tr th:only-of-type {\n",
       "        vertical-align: middle;\n",
       "    }\n",
       "\n",
       "    .dataframe tbody tr th {\n",
       "        vertical-align: top;\n",
       "    }\n",
       "\n",
       "    .dataframe thead th {\n",
       "        text-align: right;\n",
       "    }\n",
       "</style>\n",
       "<table border=\"1\" class=\"dataframe\">\n",
       "  <thead>\n",
       "    <tr style=\"text-align: right;\">\n",
       "      <th></th>\n",
       "      <th>ZIP Code</th>\n",
       "      <th>Median income (dollars)</th>\n",
       "    </tr>\n",
       "  </thead>\n",
       "  <tbody>\n",
       "    <tr>\n",
       "      <th>0</th>\n",
       "      <td>601</td>\n",
       "      <td>14398.0</td>\n",
       "    </tr>\n",
       "    <tr>\n",
       "      <th>1</th>\n",
       "      <td>602</td>\n",
       "      <td>16771.0</td>\n",
       "    </tr>\n",
       "    <tr>\n",
       "      <th>2</th>\n",
       "      <td>603</td>\n",
       "      <td>15786.0</td>\n",
       "    </tr>\n",
       "    <tr>\n",
       "      <th>3</th>\n",
       "      <td>606</td>\n",
       "      <td>14980.0</td>\n",
       "    </tr>\n",
       "    <tr>\n",
       "      <th>4</th>\n",
       "      <td>610</td>\n",
       "      <td>20167.0</td>\n",
       "    </tr>\n",
       "  </tbody>\n",
       "</table>\n",
       "</div>"
      ],
      "text/plain": [
       "   ZIP Code  Median income (dollars)\n",
       "0       601                  14398.0\n",
       "1       602                  16771.0\n",
       "2       603                  15786.0\n",
       "3       606                  14980.0\n",
       "4       610                  20167.0"
      ]
     },
     "execution_count": 38,
     "metadata": {},
     "output_type": "execute_result"
    }
   ],
   "source": [
    "income_data = pd.read_csv('2020-zipcode-income.csv')\n",
    "income_data['Median income (dollars)'] = pd.to_numeric(income_data['Median income (dollars)'], errors='coerce')\n",
    "income_data['Zip Code'] = income_data['Zip Code'].str[6:].astype('int64')\n",
    "income_data = income_data.rename(columns={'Zip Code':'ZIP Code'})\n",
    "#income_data = income_data.set_index('Zip Code')\n",
    "\n",
    "income_data.head()"
   ]
  },
  {
   "cell_type": "markdown",
   "id": "009c6753",
   "metadata": {},
   "source": [
    "4. General Hospital Info\n",
    "    - What type of hospital"
   ]
  },
  {
   "cell_type": "code",
   "execution_count": 20,
   "id": "4f473a39",
   "metadata": {},
   "outputs": [
    {
     "data": {
      "text/html": [
       "<div>\n",
       "<style scoped>\n",
       "    .dataframe tbody tr th:only-of-type {\n",
       "        vertical-align: middle;\n",
       "    }\n",
       "\n",
       "    .dataframe tbody tr th {\n",
       "        vertical-align: top;\n",
       "    }\n",
       "\n",
       "    .dataframe thead th {\n",
       "        text-align: right;\n",
       "    }\n",
       "</style>\n",
       "<table border=\"1\" class=\"dataframe\">\n",
       "  <thead>\n",
       "    <tr style=\"text-align: right;\">\n",
       "      <th></th>\n",
       "      <th>Facility ID</th>\n",
       "      <th>ZIP Code</th>\n",
       "      <th>Hospital Type</th>\n",
       "      <th>Hospital Ownership</th>\n",
       "      <th>Emergency Services</th>\n",
       "    </tr>\n",
       "  </thead>\n",
       "  <tbody>\n",
       "    <tr>\n",
       "      <th>0</th>\n",
       "      <td>010001</td>\n",
       "      <td>36301</td>\n",
       "      <td>Acute Care Hospitals</td>\n",
       "      <td>Government - Hospital District or Authority</td>\n",
       "      <td>Yes</td>\n",
       "    </tr>\n",
       "    <tr>\n",
       "      <th>1</th>\n",
       "      <td>010005</td>\n",
       "      <td>35957</td>\n",
       "      <td>Acute Care Hospitals</td>\n",
       "      <td>Government - Hospital District or Authority</td>\n",
       "      <td>Yes</td>\n",
       "    </tr>\n",
       "    <tr>\n",
       "      <th>2</th>\n",
       "      <td>010006</td>\n",
       "      <td>35630</td>\n",
       "      <td>Acute Care Hospitals</td>\n",
       "      <td>Proprietary</td>\n",
       "      <td>Yes</td>\n",
       "    </tr>\n",
       "    <tr>\n",
       "      <th>3</th>\n",
       "      <td>010007</td>\n",
       "      <td>36467</td>\n",
       "      <td>Acute Care Hospitals</td>\n",
       "      <td>Voluntary non-profit - Private</td>\n",
       "      <td>Yes</td>\n",
       "    </tr>\n",
       "    <tr>\n",
       "      <th>4</th>\n",
       "      <td>010008</td>\n",
       "      <td>36049</td>\n",
       "      <td>Acute Care Hospitals</td>\n",
       "      <td>Proprietary</td>\n",
       "      <td>Yes</td>\n",
       "    </tr>\n",
       "  </tbody>\n",
       "</table>\n",
       "</div>"
      ],
      "text/plain": [
       "  Facility ID  ZIP Code         Hospital Type  \\\n",
       "0      010001     36301  Acute Care Hospitals   \n",
       "1      010005     35957  Acute Care Hospitals   \n",
       "2      010006     35630  Acute Care Hospitals   \n",
       "3      010007     36467  Acute Care Hospitals   \n",
       "4      010008     36049  Acute Care Hospitals   \n",
       "\n",
       "                            Hospital Ownership Emergency Services  \n",
       "0  Government - Hospital District or Authority                Yes  \n",
       "1  Government - Hospital District or Authority                Yes  \n",
       "2                                  Proprietary                Yes  \n",
       "3               Voluntary non-profit - Private                Yes  \n",
       "4                                  Proprietary                Yes  "
      ]
     },
     "execution_count": 20,
     "metadata": {},
     "output_type": "execute_result"
    }
   ],
   "source": [
    "# Read 'Hospital General Information' Data\n",
    "hospital_data = pd.read_csv('Hospital_General_Information.csv', na_values=['Not Applicable', 'Not Available'],\n",
    "                           low_memory=False, usecols=[0, 5, 8, 9, 10])\n",
    "hospital_data.head()"
   ]
  },
  {
   "cell_type": "markdown",
   "id": "64037ec6",
   "metadata": {},
   "source": [
    "## Merge External Data Sources"
   ]
  },
  {
   "cell_type": "code",
   "execution_count": 66,
   "id": "ec083147",
   "metadata": {},
   "outputs": [
    {
     "data": {
      "text/html": [
       "<div>\n",
       "<style scoped>\n",
       "    .dataframe tbody tr th:only-of-type {\n",
       "        vertical-align: middle;\n",
       "    }\n",
       "\n",
       "    .dataframe tbody tr th {\n",
       "        vertical-align: top;\n",
       "    }\n",
       "\n",
       "    .dataframe thead th {\n",
       "        text-align: right;\n",
       "    }\n",
       "</style>\n",
       "<table border=\"1\" class=\"dataframe\">\n",
       "  <thead>\n",
       "    <tr style=\"text-align: right;\">\n",
       "      <th></th>\n",
       "      <th>Facility ID</th>\n",
       "      <th>Care transition - linear mean score</th>\n",
       "      <th>Cleanliness - linear mean score</th>\n",
       "      <th>Communication about medicines - linear mean score</th>\n",
       "      <th>Discharge information - linear mean score</th>\n",
       "      <th>Doctor communication - linear mean score</th>\n",
       "      <th>Nurse communication - linear mean score</th>\n",
       "      <th>Overall hospital rating - linear mean score</th>\n",
       "      <th>Quietness - linear mean score</th>\n",
       "      <th>Recommend hospital - linear mean score</th>\n",
       "      <th>Staff responsiveness - linear mean score</th>\n",
       "      <th>hospital_score</th>\n",
       "      <th>ZIP Code</th>\n",
       "      <th>Hospital Type</th>\n",
       "      <th>Hospital Ownership</th>\n",
       "      <th>Emergency Services</th>\n",
       "    </tr>\n",
       "  </thead>\n",
       "  <tbody>\n",
       "    <tr>\n",
       "      <th>0</th>\n",
       "      <td>010001</td>\n",
       "      <td>81.0</td>\n",
       "      <td>87.0</td>\n",
       "      <td>77.0</td>\n",
       "      <td>89.0</td>\n",
       "      <td>92.0</td>\n",
       "      <td>90.0</td>\n",
       "      <td>88.0</td>\n",
       "      <td>84.0</td>\n",
       "      <td>90.0</td>\n",
       "      <td>81.0</td>\n",
       "      <td>89.0</td>\n",
       "      <td>36301</td>\n",
       "      <td>Acute Care Hospitals</td>\n",
       "      <td>Government - Hospital District or Authority</td>\n",
       "      <td>Yes</td>\n",
       "    </tr>\n",
       "    <tr>\n",
       "      <th>1</th>\n",
       "      <td>010005</td>\n",
       "      <td>81.0</td>\n",
       "      <td>83.0</td>\n",
       "      <td>73.0</td>\n",
       "      <td>85.0</td>\n",
       "      <td>93.0</td>\n",
       "      <td>89.0</td>\n",
       "      <td>86.0</td>\n",
       "      <td>85.0</td>\n",
       "      <td>84.0</td>\n",
       "      <td>74.0</td>\n",
       "      <td>85.0</td>\n",
       "      <td>35957</td>\n",
       "      <td>Acute Care Hospitals</td>\n",
       "      <td>Government - Hospital District or Authority</td>\n",
       "      <td>Yes</td>\n",
       "    </tr>\n",
       "    <tr>\n",
       "      <th>2</th>\n",
       "      <td>010006</td>\n",
       "      <td>77.0</td>\n",
       "      <td>77.0</td>\n",
       "      <td>72.0</td>\n",
       "      <td>84.0</td>\n",
       "      <td>90.0</td>\n",
       "      <td>86.0</td>\n",
       "      <td>82.0</td>\n",
       "      <td>84.0</td>\n",
       "      <td>82.0</td>\n",
       "      <td>72.0</td>\n",
       "      <td>82.0</td>\n",
       "      <td>35630</td>\n",
       "      <td>Acute Care Hospitals</td>\n",
       "      <td>Proprietary</td>\n",
       "      <td>Yes</td>\n",
       "    </tr>\n",
       "    <tr>\n",
       "      <th>3</th>\n",
       "      <td>010007</td>\n",
       "      <td>80.0</td>\n",
       "      <td>86.0</td>\n",
       "      <td>89.0</td>\n",
       "      <td>90.0</td>\n",
       "      <td>94.0</td>\n",
       "      <td>94.0</td>\n",
       "      <td>87.0</td>\n",
       "      <td>86.0</td>\n",
       "      <td>85.0</td>\n",
       "      <td>87.0</td>\n",
       "      <td>86.0</td>\n",
       "      <td>36467</td>\n",
       "      <td>Acute Care Hospitals</td>\n",
       "      <td>Voluntary non-profit - Private</td>\n",
       "      <td>Yes</td>\n",
       "    </tr>\n",
       "    <tr>\n",
       "      <th>4</th>\n",
       "      <td>010011</td>\n",
       "      <td>81.0</td>\n",
       "      <td>83.0</td>\n",
       "      <td>77.0</td>\n",
       "      <td>86.0</td>\n",
       "      <td>91.0</td>\n",
       "      <td>90.0</td>\n",
       "      <td>87.0</td>\n",
       "      <td>82.0</td>\n",
       "      <td>88.0</td>\n",
       "      <td>83.0</td>\n",
       "      <td>87.5</td>\n",
       "      <td>35235</td>\n",
       "      <td>Acute Care Hospitals</td>\n",
       "      <td>Voluntary non-profit - Private</td>\n",
       "      <td>Yes</td>\n",
       "    </tr>\n",
       "  </tbody>\n",
       "</table>\n",
       "</div>"
      ],
      "text/plain": [
       "  Facility ID  Care transition - linear mean score  \\\n",
       "0      010001                                 81.0   \n",
       "1      010005                                 81.0   \n",
       "2      010006                                 77.0   \n",
       "3      010007                                 80.0   \n",
       "4      010011                                 81.0   \n",
       "\n",
       "   Cleanliness - linear mean score  \\\n",
       "0                             87.0   \n",
       "1                             83.0   \n",
       "2                             77.0   \n",
       "3                             86.0   \n",
       "4                             83.0   \n",
       "\n",
       "   Communication about medicines - linear mean score  \\\n",
       "0                                               77.0   \n",
       "1                                               73.0   \n",
       "2                                               72.0   \n",
       "3                                               89.0   \n",
       "4                                               77.0   \n",
       "\n",
       "   Discharge information - linear mean score  \\\n",
       "0                                       89.0   \n",
       "1                                       85.0   \n",
       "2                                       84.0   \n",
       "3                                       90.0   \n",
       "4                                       86.0   \n",
       "\n",
       "   Doctor communication - linear mean score  \\\n",
       "0                                      92.0   \n",
       "1                                      93.0   \n",
       "2                                      90.0   \n",
       "3                                      94.0   \n",
       "4                                      91.0   \n",
       "\n",
       "   Nurse communication - linear mean score  \\\n",
       "0                                     90.0   \n",
       "1                                     89.0   \n",
       "2                                     86.0   \n",
       "3                                     94.0   \n",
       "4                                     90.0   \n",
       "\n",
       "   Overall hospital rating - linear mean score  Quietness - linear mean score  \\\n",
       "0                                         88.0                           84.0   \n",
       "1                                         86.0                           85.0   \n",
       "2                                         82.0                           84.0   \n",
       "3                                         87.0                           86.0   \n",
       "4                                         87.0                           82.0   \n",
       "\n",
       "   Recommend hospital - linear mean score  \\\n",
       "0                                    90.0   \n",
       "1                                    84.0   \n",
       "2                                    82.0   \n",
       "3                                    85.0   \n",
       "4                                    88.0   \n",
       "\n",
       "   Staff responsiveness - linear mean score  hospital_score  ZIP Code  \\\n",
       "0                                      81.0            89.0     36301   \n",
       "1                                      74.0            85.0     35957   \n",
       "2                                      72.0            82.0     35630   \n",
       "3                                      87.0            86.0     36467   \n",
       "4                                      83.0            87.5     35235   \n",
       "\n",
       "          Hospital Type                           Hospital Ownership  \\\n",
       "0  Acute Care Hospitals  Government - Hospital District or Authority   \n",
       "1  Acute Care Hospitals  Government - Hospital District or Authority   \n",
       "2  Acute Care Hospitals                                  Proprietary   \n",
       "3  Acute Care Hospitals               Voluntary non-profit - Private   \n",
       "4  Acute Care Hospitals               Voluntary non-profit - Private   \n",
       "\n",
       "  Emergency Services  \n",
       "0                Yes  \n",
       "1                Yes  \n",
       "2                Yes  \n",
       "3                Yes  \n",
       "4                Yes  "
      ]
     },
     "execution_count": 66,
     "metadata": {},
     "output_type": "execute_result"
    }
   ],
   "source": [
    "# Merge columns of interest from general hospital information with HCAHPS dataset\n",
    "df2 = pd.merge(df, hospital_data, on = 'Facility ID')\n",
    "df2.head()"
   ]
  },
  {
   "cell_type": "code",
   "execution_count": 67,
   "id": "d373e4a9",
   "metadata": {},
   "outputs": [
    {
     "name": "stdout",
     "output_type": "stream",
     "text": [
      "<class 'pandas.core.frame.DataFrame'>\n",
      "Int64Index: 3025 entries, 0 to 3024\n",
      "Data columns (total 16 columns):\n",
      " #   Column                                             Non-Null Count  Dtype   \n",
      "---  ------                                             --------------  -----   \n",
      " 0   Facility ID                                        3025 non-null   object  \n",
      " 1   Care transition - linear mean score                3025 non-null   float64 \n",
      " 2   Cleanliness - linear mean score                    3025 non-null   float64 \n",
      " 3   Communication about medicines - linear mean score  3025 non-null   float64 \n",
      " 4   Discharge information - linear mean score          3025 non-null   float64 \n",
      " 5   Doctor communication - linear mean score           3025 non-null   float64 \n",
      " 6   Nurse communication - linear mean score            3025 non-null   float64 \n",
      " 7   Overall hospital rating - linear mean score        3025 non-null   float64 \n",
      " 8   Quietness - linear mean score                      3025 non-null   float64 \n",
      " 9   Recommend hospital - linear mean score             3025 non-null   float64 \n",
      " 10  Staff responsiveness - linear mean score           3025 non-null   float64 \n",
      " 11  hospital_score                                     3025 non-null   float64 \n",
      " 12  ZIP Code                                           3025 non-null   int64   \n",
      " 13  Hospital Type                                      3025 non-null   category\n",
      " 14  Hospital Ownership                                 3025 non-null   category\n",
      " 15  Emergency Services                                 3025 non-null   category\n",
      "dtypes: category(3), float64(11), int64(1), object(1)\n",
      "memory usage: 340.4+ KB\n"
     ]
    }
   ],
   "source": [
    "df2 = df2.astype({'Hospital Type': 'category', 'Hospital Ownership': 'category', 'Emergency Services':'category'})\n",
    "df2.info()"
   ]
  },
  {
   "cell_type": "code",
   "execution_count": 68,
   "id": "8c3155c6",
   "metadata": {},
   "outputs": [
    {
     "data": {
      "text/html": [
       "<div>\n",
       "<style scoped>\n",
       "    .dataframe tbody tr th:only-of-type {\n",
       "        vertical-align: middle;\n",
       "    }\n",
       "\n",
       "    .dataframe tbody tr th {\n",
       "        vertical-align: top;\n",
       "    }\n",
       "\n",
       "    .dataframe thead th {\n",
       "        text-align: right;\n",
       "    }\n",
       "</style>\n",
       "<table border=\"1\" class=\"dataframe\">\n",
       "  <thead>\n",
       "    <tr style=\"text-align: right;\">\n",
       "      <th></th>\n",
       "      <th>Facility ID</th>\n",
       "      <th>Care transition - linear mean score</th>\n",
       "      <th>Cleanliness - linear mean score</th>\n",
       "      <th>Communication about medicines - linear mean score</th>\n",
       "      <th>Discharge information - linear mean score</th>\n",
       "      <th>Doctor communication - linear mean score</th>\n",
       "      <th>Nurse communication - linear mean score</th>\n",
       "      <th>Overall hospital rating - linear mean score</th>\n",
       "      <th>Quietness - linear mean score</th>\n",
       "      <th>Recommend hospital - linear mean score</th>\n",
       "      <th>Staff responsiveness - linear mean score</th>\n",
       "      <th>hospital_score</th>\n",
       "      <th>ZIP Code</th>\n",
       "      <th>Hospital Type</th>\n",
       "      <th>Hospital Ownership</th>\n",
       "      <th>Emergency Services</th>\n",
       "      <th>Medicare_Spend</th>\n",
       "    </tr>\n",
       "  </thead>\n",
       "  <tbody>\n",
       "    <tr>\n",
       "      <th>0</th>\n",
       "      <td>100001</td>\n",
       "      <td>80.0</td>\n",
       "      <td>83.0</td>\n",
       "      <td>76.0</td>\n",
       "      <td>86.0</td>\n",
       "      <td>89.0</td>\n",
       "      <td>89.0</td>\n",
       "      <td>86.0</td>\n",
       "      <td>82.0</td>\n",
       "      <td>86.0</td>\n",
       "      <td>82.0</td>\n",
       "      <td>86.0</td>\n",
       "      <td>32209</td>\n",
       "      <td>Acute Care Hospitals</td>\n",
       "      <td>Voluntary non-profit - Private</td>\n",
       "      <td>Yes</td>\n",
       "      <td>1.028082</td>\n",
       "    </tr>\n",
       "    <tr>\n",
       "      <th>1</th>\n",
       "      <td>100002</td>\n",
       "      <td>75.0</td>\n",
       "      <td>81.0</td>\n",
       "      <td>68.0</td>\n",
       "      <td>77.0</td>\n",
       "      <td>86.0</td>\n",
       "      <td>86.0</td>\n",
       "      <td>84.0</td>\n",
       "      <td>84.0</td>\n",
       "      <td>83.0</td>\n",
       "      <td>74.0</td>\n",
       "      <td>83.5</td>\n",
       "      <td>33435</td>\n",
       "      <td>Acute Care Hospitals</td>\n",
       "      <td>Voluntary non-profit - Private</td>\n",
       "      <td>Yes</td>\n",
       "      <td>1.098757</td>\n",
       "    </tr>\n",
       "    <tr>\n",
       "      <th>2</th>\n",
       "      <td>100006</td>\n",
       "      <td>82.0</td>\n",
       "      <td>87.0</td>\n",
       "      <td>73.0</td>\n",
       "      <td>85.0</td>\n",
       "      <td>91.0</td>\n",
       "      <td>91.0</td>\n",
       "      <td>89.0</td>\n",
       "      <td>85.0</td>\n",
       "      <td>90.0</td>\n",
       "      <td>83.0</td>\n",
       "      <td>89.5</td>\n",
       "      <td>32806</td>\n",
       "      <td>Acute Care Hospitals</td>\n",
       "      <td>Voluntary non-profit - Private</td>\n",
       "      <td>Yes</td>\n",
       "      <td>1.004443</td>\n",
       "    </tr>\n",
       "    <tr>\n",
       "      <th>3</th>\n",
       "      <td>100007</td>\n",
       "      <td>82.0</td>\n",
       "      <td>88.0</td>\n",
       "      <td>78.0</td>\n",
       "      <td>87.0</td>\n",
       "      <td>89.0</td>\n",
       "      <td>91.0</td>\n",
       "      <td>89.0</td>\n",
       "      <td>87.0</td>\n",
       "      <td>89.0</td>\n",
       "      <td>82.0</td>\n",
       "      <td>89.0</td>\n",
       "      <td>32803</td>\n",
       "      <td>Acute Care Hospitals</td>\n",
       "      <td>Voluntary non-profit - Private</td>\n",
       "      <td>Yes</td>\n",
       "      <td>1.003360</td>\n",
       "    </tr>\n",
       "    <tr>\n",
       "      <th>4</th>\n",
       "      <td>100008</td>\n",
       "      <td>81.0</td>\n",
       "      <td>83.0</td>\n",
       "      <td>74.0</td>\n",
       "      <td>82.0</td>\n",
       "      <td>92.0</td>\n",
       "      <td>89.0</td>\n",
       "      <td>87.0</td>\n",
       "      <td>84.0</td>\n",
       "      <td>89.0</td>\n",
       "      <td>78.0</td>\n",
       "      <td>88.0</td>\n",
       "      <td>33176</td>\n",
       "      <td>Acute Care Hospitals</td>\n",
       "      <td>Voluntary non-profit - Private</td>\n",
       "      <td>Yes</td>\n",
       "      <td>1.008853</td>\n",
       "    </tr>\n",
       "  </tbody>\n",
       "</table>\n",
       "</div>"
      ],
      "text/plain": [
       "  Facility ID  Care transition - linear mean score  \\\n",
       "0      100001                                 80.0   \n",
       "1      100002                                 75.0   \n",
       "2      100006                                 82.0   \n",
       "3      100007                                 82.0   \n",
       "4      100008                                 81.0   \n",
       "\n",
       "   Cleanliness - linear mean score  \\\n",
       "0                             83.0   \n",
       "1                             81.0   \n",
       "2                             87.0   \n",
       "3                             88.0   \n",
       "4                             83.0   \n",
       "\n",
       "   Communication about medicines - linear mean score  \\\n",
       "0                                               76.0   \n",
       "1                                               68.0   \n",
       "2                                               73.0   \n",
       "3                                               78.0   \n",
       "4                                               74.0   \n",
       "\n",
       "   Discharge information - linear mean score  \\\n",
       "0                                       86.0   \n",
       "1                                       77.0   \n",
       "2                                       85.0   \n",
       "3                                       87.0   \n",
       "4                                       82.0   \n",
       "\n",
       "   Doctor communication - linear mean score  \\\n",
       "0                                      89.0   \n",
       "1                                      86.0   \n",
       "2                                      91.0   \n",
       "3                                      89.0   \n",
       "4                                      92.0   \n",
       "\n",
       "   Nurse communication - linear mean score  \\\n",
       "0                                     89.0   \n",
       "1                                     86.0   \n",
       "2                                     91.0   \n",
       "3                                     91.0   \n",
       "4                                     89.0   \n",
       "\n",
       "   Overall hospital rating - linear mean score  Quietness - linear mean score  \\\n",
       "0                                         86.0                           82.0   \n",
       "1                                         84.0                           84.0   \n",
       "2                                         89.0                           85.0   \n",
       "3                                         89.0                           87.0   \n",
       "4                                         87.0                           84.0   \n",
       "\n",
       "   Recommend hospital - linear mean score  \\\n",
       "0                                    86.0   \n",
       "1                                    83.0   \n",
       "2                                    90.0   \n",
       "3                                    89.0   \n",
       "4                                    89.0   \n",
       "\n",
       "   Staff responsiveness - linear mean score  hospital_score  ZIP Code  \\\n",
       "0                                      82.0            86.0     32209   \n",
       "1                                      74.0            83.5     33435   \n",
       "2                                      83.0            89.5     32806   \n",
       "3                                      82.0            89.0     32803   \n",
       "4                                      78.0            88.0     33176   \n",
       "\n",
       "          Hospital Type              Hospital Ownership Emergency Services  \\\n",
       "0  Acute Care Hospitals  Voluntary non-profit - Private                Yes   \n",
       "1  Acute Care Hospitals  Voluntary non-profit - Private                Yes   \n",
       "2  Acute Care Hospitals  Voluntary non-profit - Private                Yes   \n",
       "3  Acute Care Hospitals  Voluntary non-profit - Private                Yes   \n",
       "4  Acute Care Hospitals  Voluntary non-profit - Private                Yes   \n",
       "\n",
       "   Medicare_Spend  \n",
       "0        1.028082  \n",
       "1        1.098757  \n",
       "2        1.004443  \n",
       "3        1.003360  \n",
       "4        1.008853  "
      ]
     },
     "execution_count": 68,
     "metadata": {},
     "output_type": "execute_result"
    }
   ],
   "source": [
    "# Merge medicare data\n",
    "df2 = df2.merge(medicare_data, on = 'Facility ID')\n",
    "df2.head()"
   ]
  },
  {
   "cell_type": "code",
   "execution_count": 69,
   "id": "da7227aa",
   "metadata": {},
   "outputs": [
    {
     "data": {
      "text/html": [
       "<div>\n",
       "<style scoped>\n",
       "    .dataframe tbody tr th:only-of-type {\n",
       "        vertical-align: middle;\n",
       "    }\n",
       "\n",
       "    .dataframe tbody tr th {\n",
       "        vertical-align: top;\n",
       "    }\n",
       "\n",
       "    .dataframe thead th {\n",
       "        text-align: right;\n",
       "    }\n",
       "</style>\n",
       "<table border=\"1\" class=\"dataframe\">\n",
       "  <thead>\n",
       "    <tr style=\"text-align: right;\">\n",
       "      <th></th>\n",
       "      <th>Facility ID</th>\n",
       "      <th>Care transition - linear mean score</th>\n",
       "      <th>Cleanliness - linear mean score</th>\n",
       "      <th>Communication about medicines - linear mean score</th>\n",
       "      <th>Discharge information - linear mean score</th>\n",
       "      <th>Doctor communication - linear mean score</th>\n",
       "      <th>Nurse communication - linear mean score</th>\n",
       "      <th>Overall hospital rating - linear mean score</th>\n",
       "      <th>Quietness - linear mean score</th>\n",
       "      <th>Recommend hospital - linear mean score</th>\n",
       "      <th>Staff responsiveness - linear mean score</th>\n",
       "      <th>hospital_score</th>\n",
       "      <th>ZIP Code</th>\n",
       "      <th>Hospital Type</th>\n",
       "      <th>Hospital Ownership</th>\n",
       "      <th>Emergency Services</th>\n",
       "      <th>Medicare_Spend</th>\n",
       "      <th>Median income (dollars)</th>\n",
       "    </tr>\n",
       "  </thead>\n",
       "  <tbody>\n",
       "    <tr>\n",
       "      <th>0</th>\n",
       "      <td>100001</td>\n",
       "      <td>80.0</td>\n",
       "      <td>83.0</td>\n",
       "      <td>76.0</td>\n",
       "      <td>86.0</td>\n",
       "      <td>89.0</td>\n",
       "      <td>89.0</td>\n",
       "      <td>86.0</td>\n",
       "      <td>82.0</td>\n",
       "      <td>86.0</td>\n",
       "      <td>82.0</td>\n",
       "      <td>86.0</td>\n",
       "      <td>32209</td>\n",
       "      <td>Acute Care Hospitals</td>\n",
       "      <td>Voluntary non-profit - Private</td>\n",
       "      <td>Yes</td>\n",
       "      <td>1.028082</td>\n",
       "      <td>26568.0</td>\n",
       "    </tr>\n",
       "    <tr>\n",
       "      <th>1</th>\n",
       "      <td>100002</td>\n",
       "      <td>75.0</td>\n",
       "      <td>81.0</td>\n",
       "      <td>68.0</td>\n",
       "      <td>77.0</td>\n",
       "      <td>86.0</td>\n",
       "      <td>86.0</td>\n",
       "      <td>84.0</td>\n",
       "      <td>84.0</td>\n",
       "      <td>83.0</td>\n",
       "      <td>74.0</td>\n",
       "      <td>83.5</td>\n",
       "      <td>33435</td>\n",
       "      <td>Acute Care Hospitals</td>\n",
       "      <td>Voluntary non-profit - Private</td>\n",
       "      <td>Yes</td>\n",
       "      <td>1.098757</td>\n",
       "      <td>52785.0</td>\n",
       "    </tr>\n",
       "    <tr>\n",
       "      <th>2</th>\n",
       "      <td>100006</td>\n",
       "      <td>82.0</td>\n",
       "      <td>87.0</td>\n",
       "      <td>73.0</td>\n",
       "      <td>85.0</td>\n",
       "      <td>91.0</td>\n",
       "      <td>91.0</td>\n",
       "      <td>89.0</td>\n",
       "      <td>85.0</td>\n",
       "      <td>90.0</td>\n",
       "      <td>83.0</td>\n",
       "      <td>89.5</td>\n",
       "      <td>32806</td>\n",
       "      <td>Acute Care Hospitals</td>\n",
       "      <td>Voluntary non-profit - Private</td>\n",
       "      <td>Yes</td>\n",
       "      <td>1.004443</td>\n",
       "      <td>72533.0</td>\n",
       "    </tr>\n",
       "    <tr>\n",
       "      <th>3</th>\n",
       "      <td>100007</td>\n",
       "      <td>82.0</td>\n",
       "      <td>88.0</td>\n",
       "      <td>78.0</td>\n",
       "      <td>87.0</td>\n",
       "      <td>89.0</td>\n",
       "      <td>91.0</td>\n",
       "      <td>89.0</td>\n",
       "      <td>87.0</td>\n",
       "      <td>89.0</td>\n",
       "      <td>82.0</td>\n",
       "      <td>89.0</td>\n",
       "      <td>32803</td>\n",
       "      <td>Acute Care Hospitals</td>\n",
       "      <td>Voluntary non-profit - Private</td>\n",
       "      <td>Yes</td>\n",
       "      <td>1.003360</td>\n",
       "      <td>82111.0</td>\n",
       "    </tr>\n",
       "    <tr>\n",
       "      <th>4</th>\n",
       "      <td>100008</td>\n",
       "      <td>81.0</td>\n",
       "      <td>83.0</td>\n",
       "      <td>74.0</td>\n",
       "      <td>82.0</td>\n",
       "      <td>92.0</td>\n",
       "      <td>89.0</td>\n",
       "      <td>87.0</td>\n",
       "      <td>84.0</td>\n",
       "      <td>89.0</td>\n",
       "      <td>78.0</td>\n",
       "      <td>88.0</td>\n",
       "      <td>33176</td>\n",
       "      <td>Acute Care Hospitals</td>\n",
       "      <td>Voluntary non-profit - Private</td>\n",
       "      <td>Yes</td>\n",
       "      <td>1.008853</td>\n",
       "      <td>74246.0</td>\n",
       "    </tr>\n",
       "  </tbody>\n",
       "</table>\n",
       "</div>"
      ],
      "text/plain": [
       "  Facility ID  Care transition - linear mean score  \\\n",
       "0      100001                                 80.0   \n",
       "1      100002                                 75.0   \n",
       "2      100006                                 82.0   \n",
       "3      100007                                 82.0   \n",
       "4      100008                                 81.0   \n",
       "\n",
       "   Cleanliness - linear mean score  \\\n",
       "0                             83.0   \n",
       "1                             81.0   \n",
       "2                             87.0   \n",
       "3                             88.0   \n",
       "4                             83.0   \n",
       "\n",
       "   Communication about medicines - linear mean score  \\\n",
       "0                                               76.0   \n",
       "1                                               68.0   \n",
       "2                                               73.0   \n",
       "3                                               78.0   \n",
       "4                                               74.0   \n",
       "\n",
       "   Discharge information - linear mean score  \\\n",
       "0                                       86.0   \n",
       "1                                       77.0   \n",
       "2                                       85.0   \n",
       "3                                       87.0   \n",
       "4                                       82.0   \n",
       "\n",
       "   Doctor communication - linear mean score  \\\n",
       "0                                      89.0   \n",
       "1                                      86.0   \n",
       "2                                      91.0   \n",
       "3                                      89.0   \n",
       "4                                      92.0   \n",
       "\n",
       "   Nurse communication - linear mean score  \\\n",
       "0                                     89.0   \n",
       "1                                     86.0   \n",
       "2                                     91.0   \n",
       "3                                     91.0   \n",
       "4                                     89.0   \n",
       "\n",
       "   Overall hospital rating - linear mean score  Quietness - linear mean score  \\\n",
       "0                                         86.0                           82.0   \n",
       "1                                         84.0                           84.0   \n",
       "2                                         89.0                           85.0   \n",
       "3                                         89.0                           87.0   \n",
       "4                                         87.0                           84.0   \n",
       "\n",
       "   Recommend hospital - linear mean score  \\\n",
       "0                                    86.0   \n",
       "1                                    83.0   \n",
       "2                                    90.0   \n",
       "3                                    89.0   \n",
       "4                                    89.0   \n",
       "\n",
       "   Staff responsiveness - linear mean score  hospital_score  ZIP Code  \\\n",
       "0                                      82.0            86.0     32209   \n",
       "1                                      74.0            83.5     33435   \n",
       "2                                      83.0            89.5     32806   \n",
       "3                                      82.0            89.0     32803   \n",
       "4                                      78.0            88.0     33176   \n",
       "\n",
       "          Hospital Type              Hospital Ownership Emergency Services  \\\n",
       "0  Acute Care Hospitals  Voluntary non-profit - Private                Yes   \n",
       "1  Acute Care Hospitals  Voluntary non-profit - Private                Yes   \n",
       "2  Acute Care Hospitals  Voluntary non-profit - Private                Yes   \n",
       "3  Acute Care Hospitals  Voluntary non-profit - Private                Yes   \n",
       "4  Acute Care Hospitals  Voluntary non-profit - Private                Yes   \n",
       "\n",
       "   Medicare_Spend  Median income (dollars)  \n",
       "0        1.028082                  26568.0  \n",
       "1        1.098757                  52785.0  \n",
       "2        1.004443                  72533.0  \n",
       "3        1.003360                  82111.0  \n",
       "4        1.008853                  74246.0  "
      ]
     },
     "execution_count": 69,
     "metadata": {},
     "output_type": "execute_result"
    }
   ],
   "source": [
    "# Merge median income\n",
    "df2 = df2.merge(income_data, on = 'ZIP Code')\n",
    "df2.head()"
   ]
  },
  {
   "cell_type": "code",
   "execution_count": 70,
   "id": "355d8b4b",
   "metadata": {},
   "outputs": [
    {
     "data": {
      "text/html": [
       "<div>\n",
       "<style scoped>\n",
       "    .dataframe tbody tr th:only-of-type {\n",
       "        vertical-align: middle;\n",
       "    }\n",
       "\n",
       "    .dataframe tbody tr th {\n",
       "        vertical-align: top;\n",
       "    }\n",
       "\n",
       "    .dataframe thead th {\n",
       "        text-align: right;\n",
       "    }\n",
       "</style>\n",
       "<table border=\"1\" class=\"dataframe\">\n",
       "  <thead>\n",
       "    <tr style=\"text-align: right;\">\n",
       "      <th></th>\n",
       "      <th>Facility ID</th>\n",
       "      <th>Care transition - linear mean score</th>\n",
       "      <th>Cleanliness - linear mean score</th>\n",
       "      <th>Communication about medicines - linear mean score</th>\n",
       "      <th>Discharge information - linear mean score</th>\n",
       "      <th>Doctor communication - linear mean score</th>\n",
       "      <th>Nurse communication - linear mean score</th>\n",
       "      <th>Overall hospital rating - linear mean score</th>\n",
       "      <th>Quietness - linear mean score</th>\n",
       "      <th>Recommend hospital - linear mean score</th>\n",
       "      <th>Staff responsiveness - linear mean score</th>\n",
       "      <th>hospital_score</th>\n",
       "      <th>ZIP Code</th>\n",
       "      <th>Hospital Type</th>\n",
       "      <th>Hospital Ownership</th>\n",
       "      <th>Emergency Services</th>\n",
       "      <th>Medicare_Spend</th>\n",
       "      <th>Median income (dollars)</th>\n",
       "      <th>Survey Response Rate Percent</th>\n",
       "    </tr>\n",
       "  </thead>\n",
       "  <tbody>\n",
       "    <tr>\n",
       "      <th>0</th>\n",
       "      <td>100001</td>\n",
       "      <td>80.0</td>\n",
       "      <td>83.0</td>\n",
       "      <td>76.0</td>\n",
       "      <td>86.0</td>\n",
       "      <td>89.0</td>\n",
       "      <td>89.0</td>\n",
       "      <td>86.0</td>\n",
       "      <td>82.0</td>\n",
       "      <td>86.0</td>\n",
       "      <td>82.0</td>\n",
       "      <td>86.0</td>\n",
       "      <td>32209</td>\n",
       "      <td>Acute Care Hospitals</td>\n",
       "      <td>Voluntary non-profit - Private</td>\n",
       "      <td>Yes</td>\n",
       "      <td>1.028082</td>\n",
       "      <td>26568.0</td>\n",
       "      <td>28.0</td>\n",
       "    </tr>\n",
       "    <tr>\n",
       "      <th>1</th>\n",
       "      <td>100002</td>\n",
       "      <td>75.0</td>\n",
       "      <td>81.0</td>\n",
       "      <td>68.0</td>\n",
       "      <td>77.0</td>\n",
       "      <td>86.0</td>\n",
       "      <td>86.0</td>\n",
       "      <td>84.0</td>\n",
       "      <td>84.0</td>\n",
       "      <td>83.0</td>\n",
       "      <td>74.0</td>\n",
       "      <td>83.5</td>\n",
       "      <td>33435</td>\n",
       "      <td>Acute Care Hospitals</td>\n",
       "      <td>Voluntary non-profit - Private</td>\n",
       "      <td>Yes</td>\n",
       "      <td>1.098757</td>\n",
       "      <td>52785.0</td>\n",
       "      <td>21.0</td>\n",
       "    </tr>\n",
       "    <tr>\n",
       "      <th>2</th>\n",
       "      <td>100006</td>\n",
       "      <td>82.0</td>\n",
       "      <td>87.0</td>\n",
       "      <td>73.0</td>\n",
       "      <td>85.0</td>\n",
       "      <td>91.0</td>\n",
       "      <td>91.0</td>\n",
       "      <td>89.0</td>\n",
       "      <td>85.0</td>\n",
       "      <td>90.0</td>\n",
       "      <td>83.0</td>\n",
       "      <td>89.5</td>\n",
       "      <td>32806</td>\n",
       "      <td>Acute Care Hospitals</td>\n",
       "      <td>Voluntary non-profit - Private</td>\n",
       "      <td>Yes</td>\n",
       "      <td>1.004443</td>\n",
       "      <td>72533.0</td>\n",
       "      <td>16.0</td>\n",
       "    </tr>\n",
       "    <tr>\n",
       "      <th>3</th>\n",
       "      <td>100007</td>\n",
       "      <td>82.0</td>\n",
       "      <td>88.0</td>\n",
       "      <td>78.0</td>\n",
       "      <td>87.0</td>\n",
       "      <td>89.0</td>\n",
       "      <td>91.0</td>\n",
       "      <td>89.0</td>\n",
       "      <td>87.0</td>\n",
       "      <td>89.0</td>\n",
       "      <td>82.0</td>\n",
       "      <td>89.0</td>\n",
       "      <td>32803</td>\n",
       "      <td>Acute Care Hospitals</td>\n",
       "      <td>Voluntary non-profit - Private</td>\n",
       "      <td>Yes</td>\n",
       "      <td>1.003360</td>\n",
       "      <td>82111.0</td>\n",
       "      <td>17.0</td>\n",
       "    </tr>\n",
       "    <tr>\n",
       "      <th>4</th>\n",
       "      <td>100008</td>\n",
       "      <td>81.0</td>\n",
       "      <td>83.0</td>\n",
       "      <td>74.0</td>\n",
       "      <td>82.0</td>\n",
       "      <td>92.0</td>\n",
       "      <td>89.0</td>\n",
       "      <td>87.0</td>\n",
       "      <td>84.0</td>\n",
       "      <td>89.0</td>\n",
       "      <td>78.0</td>\n",
       "      <td>88.0</td>\n",
       "      <td>33176</td>\n",
       "      <td>Acute Care Hospitals</td>\n",
       "      <td>Voluntary non-profit - Private</td>\n",
       "      <td>Yes</td>\n",
       "      <td>1.008853</td>\n",
       "      <td>74246.0</td>\n",
       "      <td>15.0</td>\n",
       "    </tr>\n",
       "  </tbody>\n",
       "</table>\n",
       "</div>"
      ],
      "text/plain": [
       "  Facility ID  Care transition - linear mean score  \\\n",
       "0      100001                                 80.0   \n",
       "1      100002                                 75.0   \n",
       "2      100006                                 82.0   \n",
       "3      100007                                 82.0   \n",
       "4      100008                                 81.0   \n",
       "\n",
       "   Cleanliness - linear mean score  \\\n",
       "0                             83.0   \n",
       "1                             81.0   \n",
       "2                             87.0   \n",
       "3                             88.0   \n",
       "4                             83.0   \n",
       "\n",
       "   Communication about medicines - linear mean score  \\\n",
       "0                                               76.0   \n",
       "1                                               68.0   \n",
       "2                                               73.0   \n",
       "3                                               78.0   \n",
       "4                                               74.0   \n",
       "\n",
       "   Discharge information - linear mean score  \\\n",
       "0                                       86.0   \n",
       "1                                       77.0   \n",
       "2                                       85.0   \n",
       "3                                       87.0   \n",
       "4                                       82.0   \n",
       "\n",
       "   Doctor communication - linear mean score  \\\n",
       "0                                      89.0   \n",
       "1                                      86.0   \n",
       "2                                      91.0   \n",
       "3                                      89.0   \n",
       "4                                      92.0   \n",
       "\n",
       "   Nurse communication - linear mean score  \\\n",
       "0                                     89.0   \n",
       "1                                     86.0   \n",
       "2                                     91.0   \n",
       "3                                     91.0   \n",
       "4                                     89.0   \n",
       "\n",
       "   Overall hospital rating - linear mean score  Quietness - linear mean score  \\\n",
       "0                                         86.0                           82.0   \n",
       "1                                         84.0                           84.0   \n",
       "2                                         89.0                           85.0   \n",
       "3                                         89.0                           87.0   \n",
       "4                                         87.0                           84.0   \n",
       "\n",
       "   Recommend hospital - linear mean score  \\\n",
       "0                                    86.0   \n",
       "1                                    83.0   \n",
       "2                                    90.0   \n",
       "3                                    89.0   \n",
       "4                                    89.0   \n",
       "\n",
       "   Staff responsiveness - linear mean score  hospital_score  ZIP Code  \\\n",
       "0                                      82.0            86.0     32209   \n",
       "1                                      74.0            83.5     33435   \n",
       "2                                      83.0            89.5     32806   \n",
       "3                                      82.0            89.0     32803   \n",
       "4                                      78.0            88.0     33176   \n",
       "\n",
       "          Hospital Type              Hospital Ownership Emergency Services  \\\n",
       "0  Acute Care Hospitals  Voluntary non-profit - Private                Yes   \n",
       "1  Acute Care Hospitals  Voluntary non-profit - Private                Yes   \n",
       "2  Acute Care Hospitals  Voluntary non-profit - Private                Yes   \n",
       "3  Acute Care Hospitals  Voluntary non-profit - Private                Yes   \n",
       "4  Acute Care Hospitals  Voluntary non-profit - Private                Yes   \n",
       "\n",
       "   Medicare_Spend  Median income (dollars)  Survey Response Rate Percent  \n",
       "0        1.028082                  26568.0                          28.0  \n",
       "1        1.098757                  52785.0                          21.0  \n",
       "2        1.004443                  72533.0                          16.0  \n",
       "3        1.003360                  82111.0                          17.0  \n",
       "4        1.008853                  74246.0                          15.0  "
      ]
     },
     "execution_count": 70,
     "metadata": {},
     "output_type": "execute_result"
    }
   ],
   "source": [
    "# Merge survey response rate\n",
    "surveyresponse = data[['Facility ID','Survey Response Rate Percent']].drop_duplicates()\n",
    "df2 = df2.merge(surveyresponse, on = 'Facility ID')\n",
    "df2.head()"
   ]
  },
  {
   "cell_type": "code",
   "execution_count": 165,
   "id": "2cf16dc0",
   "metadata": {},
   "outputs": [
    {
     "data": {
      "text/html": [
       "<div>\n",
       "<style scoped>\n",
       "    .dataframe tbody tr th:only-of-type {\n",
       "        vertical-align: middle;\n",
       "    }\n",
       "\n",
       "    .dataframe tbody tr th {\n",
       "        vertical-align: top;\n",
       "    }\n",
       "\n",
       "    .dataframe thead th {\n",
       "        text-align: right;\n",
       "    }\n",
       "</style>\n",
       "<table border=\"1\" class=\"dataframe\">\n",
       "  <thead>\n",
       "    <tr style=\"text-align: right;\">\n",
       "      <th></th>\n",
       "      <th>Facility ID</th>\n",
       "      <th>Care transition</th>\n",
       "      <th>Cleanliness</th>\n",
       "      <th>Communication about medicines</th>\n",
       "      <th>Discharge information</th>\n",
       "      <th>Doctor communication</th>\n",
       "      <th>Nurse communication</th>\n",
       "      <th>Overall hospital rating</th>\n",
       "      <th>Quietness</th>\n",
       "      <th>Recommend hospital - linear mean score</th>\n",
       "      <th>Staff responsiveness - linear mean score</th>\n",
       "      <th>hospital_score</th>\n",
       "      <th>ZIP Code</th>\n",
       "      <th>Hospital Type</th>\n",
       "      <th>Hospital Ownership</th>\n",
       "      <th>Emergency Services</th>\n",
       "      <th>Medicare_Spend</th>\n",
       "      <th>Median income (dollars)</th>\n",
       "      <th>Survey Response Rate Percent</th>\n",
       "    </tr>\n",
       "  </thead>\n",
       "  <tbody>\n",
       "    <tr>\n",
       "      <th>0</th>\n",
       "      <td>100001</td>\n",
       "      <td>80.0</td>\n",
       "      <td>83.0</td>\n",
       "      <td>76.0</td>\n",
       "      <td>86.0</td>\n",
       "      <td>89.0</td>\n",
       "      <td>89.0</td>\n",
       "      <td>86.0</td>\n",
       "      <td>82.0</td>\n",
       "      <td>86.0</td>\n",
       "      <td>82.0</td>\n",
       "      <td>86.0</td>\n",
       "      <td>32209</td>\n",
       "      <td>Acute Care Hospitals</td>\n",
       "      <td>Voluntary non-profit - Private</td>\n",
       "      <td>Yes</td>\n",
       "      <td>1.028082</td>\n",
       "      <td>26568.0</td>\n",
       "      <td>28.0</td>\n",
       "    </tr>\n",
       "    <tr>\n",
       "      <th>1</th>\n",
       "      <td>100002</td>\n",
       "      <td>75.0</td>\n",
       "      <td>81.0</td>\n",
       "      <td>68.0</td>\n",
       "      <td>77.0</td>\n",
       "      <td>86.0</td>\n",
       "      <td>86.0</td>\n",
       "      <td>84.0</td>\n",
       "      <td>84.0</td>\n",
       "      <td>83.0</td>\n",
       "      <td>74.0</td>\n",
       "      <td>83.5</td>\n",
       "      <td>33435</td>\n",
       "      <td>Acute Care Hospitals</td>\n",
       "      <td>Voluntary non-profit - Private</td>\n",
       "      <td>Yes</td>\n",
       "      <td>1.098757</td>\n",
       "      <td>52785.0</td>\n",
       "      <td>21.0</td>\n",
       "    </tr>\n",
       "    <tr>\n",
       "      <th>2</th>\n",
       "      <td>100006</td>\n",
       "      <td>82.0</td>\n",
       "      <td>87.0</td>\n",
       "      <td>73.0</td>\n",
       "      <td>85.0</td>\n",
       "      <td>91.0</td>\n",
       "      <td>91.0</td>\n",
       "      <td>89.0</td>\n",
       "      <td>85.0</td>\n",
       "      <td>90.0</td>\n",
       "      <td>83.0</td>\n",
       "      <td>89.5</td>\n",
       "      <td>32806</td>\n",
       "      <td>Acute Care Hospitals</td>\n",
       "      <td>Voluntary non-profit - Private</td>\n",
       "      <td>Yes</td>\n",
       "      <td>1.004443</td>\n",
       "      <td>72533.0</td>\n",
       "      <td>16.0</td>\n",
       "    </tr>\n",
       "    <tr>\n",
       "      <th>3</th>\n",
       "      <td>100007</td>\n",
       "      <td>82.0</td>\n",
       "      <td>88.0</td>\n",
       "      <td>78.0</td>\n",
       "      <td>87.0</td>\n",
       "      <td>89.0</td>\n",
       "      <td>91.0</td>\n",
       "      <td>89.0</td>\n",
       "      <td>87.0</td>\n",
       "      <td>89.0</td>\n",
       "      <td>82.0</td>\n",
       "      <td>89.0</td>\n",
       "      <td>32803</td>\n",
       "      <td>Acute Care Hospitals</td>\n",
       "      <td>Voluntary non-profit - Private</td>\n",
       "      <td>Yes</td>\n",
       "      <td>1.003360</td>\n",
       "      <td>82111.0</td>\n",
       "      <td>17.0</td>\n",
       "    </tr>\n",
       "    <tr>\n",
       "      <th>4</th>\n",
       "      <td>100008</td>\n",
       "      <td>81.0</td>\n",
       "      <td>83.0</td>\n",
       "      <td>74.0</td>\n",
       "      <td>82.0</td>\n",
       "      <td>92.0</td>\n",
       "      <td>89.0</td>\n",
       "      <td>87.0</td>\n",
       "      <td>84.0</td>\n",
       "      <td>89.0</td>\n",
       "      <td>78.0</td>\n",
       "      <td>88.0</td>\n",
       "      <td>33176</td>\n",
       "      <td>Acute Care Hospitals</td>\n",
       "      <td>Voluntary non-profit - Private</td>\n",
       "      <td>Yes</td>\n",
       "      <td>1.008853</td>\n",
       "      <td>74246.0</td>\n",
       "      <td>15.0</td>\n",
       "    </tr>\n",
       "  </tbody>\n",
       "</table>\n",
       "</div>"
      ],
      "text/plain": [
       "  Facility ID  Care transition  Cleanliness  Communication about medicines  \\\n",
       "0      100001             80.0         83.0                           76.0   \n",
       "1      100002             75.0         81.0                           68.0   \n",
       "2      100006             82.0         87.0                           73.0   \n",
       "3      100007             82.0         88.0                           78.0   \n",
       "4      100008             81.0         83.0                           74.0   \n",
       "\n",
       "   Discharge information  Doctor communication  Nurse communication  \\\n",
       "0                   86.0                  89.0                 89.0   \n",
       "1                   77.0                  86.0                 86.0   \n",
       "2                   85.0                  91.0                 91.0   \n",
       "3                   87.0                  89.0                 91.0   \n",
       "4                   82.0                  92.0                 89.0   \n",
       "\n",
       "   Overall hospital rating  Quietness  Recommend hospital - linear mean score  \\\n",
       "0                     86.0       82.0                                    86.0   \n",
       "1                     84.0       84.0                                    83.0   \n",
       "2                     89.0       85.0                                    90.0   \n",
       "3                     89.0       87.0                                    89.0   \n",
       "4                     87.0       84.0                                    89.0   \n",
       "\n",
       "   Staff responsiveness - linear mean score  hospital_score  ZIP Code  \\\n",
       "0                                      82.0            86.0     32209   \n",
       "1                                      74.0            83.5     33435   \n",
       "2                                      83.0            89.5     32806   \n",
       "3                                      82.0            89.0     32803   \n",
       "4                                      78.0            88.0     33176   \n",
       "\n",
       "          Hospital Type              Hospital Ownership Emergency Services  \\\n",
       "0  Acute Care Hospitals  Voluntary non-profit - Private                Yes   \n",
       "1  Acute Care Hospitals  Voluntary non-profit - Private                Yes   \n",
       "2  Acute Care Hospitals  Voluntary non-profit - Private                Yes   \n",
       "3  Acute Care Hospitals  Voluntary non-profit - Private                Yes   \n",
       "4  Acute Care Hospitals  Voluntary non-profit - Private                Yes   \n",
       "\n",
       "   Medicare_Spend  Median income (dollars)  Survey Response Rate Percent  \n",
       "0        1.028082                  26568.0                          28.0  \n",
       "1        1.098757                  52785.0                          21.0  \n",
       "2        1.004443                  72533.0                          16.0  \n",
       "3        1.003360                  82111.0                          17.0  \n",
       "4        1.008853                  74246.0                          15.0  "
      ]
     },
     "execution_count": 165,
     "metadata": {},
     "output_type": "execute_result"
    }
   ],
   "source": [
    "df2 = df2.rename(columns={'Care transition - linear mean score':'Care transition','Cleanliness - linear mean score':'Cleanliness','Communication about medicines - linear mean score':'Communication about medicines','Discharge information - linear mean score':'Discharge information','Doctor communication - linear mean score':'Doctor communication','Nurse communication - linear mean score':'Nurse communication','Overall hospital rating - linear mean score':'Overall hospital rating','Quietness - linear mean score':'Quietness',})\n",
    "df2.head()"
   ]
  },
  {
   "cell_type": "markdown",
   "id": "811dcfe4",
   "metadata": {},
   "source": [
    "## Hospital General Information EDA"
   ]
  },
  {
   "cell_type": "code",
   "execution_count": 77,
   "id": "89d565bd",
   "metadata": {},
   "outputs": [
    {
     "data": {
      "text/html": [
       "<div>\n",
       "<style scoped>\n",
       "    .dataframe tbody tr th:only-of-type {\n",
       "        vertical-align: middle;\n",
       "    }\n",
       "\n",
       "    .dataframe tbody tr th {\n",
       "        vertical-align: top;\n",
       "    }\n",
       "\n",
       "    .dataframe thead th {\n",
       "        text-align: right;\n",
       "    }\n",
       "</style>\n",
       "<table border=\"1\" class=\"dataframe\">\n",
       "  <thead>\n",
       "    <tr style=\"text-align: right;\">\n",
       "      <th></th>\n",
       "      <th>Survey Response Rate Percent</th>\n",
       "      <th>Median income (dollars)</th>\n",
       "    </tr>\n",
       "  </thead>\n",
       "  <tbody>\n",
       "    <tr>\n",
       "      <th>0</th>\n",
       "      <td>4.0</td>\n",
       "      <td>57183.000000</td>\n",
       "    </tr>\n",
       "    <tr>\n",
       "      <th>1</th>\n",
       "      <td>5.0</td>\n",
       "      <td>42583.000000</td>\n",
       "    </tr>\n",
       "    <tr>\n",
       "      <th>2</th>\n",
       "      <td>6.0</td>\n",
       "      <td>41869.000000</td>\n",
       "    </tr>\n",
       "    <tr>\n",
       "      <th>3</th>\n",
       "      <td>7.0</td>\n",
       "      <td>46841.416667</td>\n",
       "    </tr>\n",
       "    <tr>\n",
       "      <th>4</th>\n",
       "      <td>8.0</td>\n",
       "      <td>39432.812500</td>\n",
       "    </tr>\n",
       "  </tbody>\n",
       "</table>\n",
       "</div>"
      ],
      "text/plain": [
       "   Survey Response Rate Percent  Median income (dollars)\n",
       "0                           4.0             57183.000000\n",
       "1                           5.0             42583.000000\n",
       "2                           6.0             41869.000000\n",
       "3                           7.0             46841.416667\n",
       "4                           8.0             39432.812500"
      ]
     },
     "execution_count": 77,
     "metadata": {},
     "output_type": "execute_result"
    }
   ],
   "source": [
    "# Aggregate hospital score by Hospital Type\n",
    "aveincomebyresponse = df2.groupby('Survey Response Rate Percent').agg('mean')['Median income (dollars)'].reset_index()\n",
    "aveincomebyresponse.head()"
   ]
  },
  {
   "cell_type": "code",
   "execution_count": 161,
   "id": "aff2e34d",
   "metadata": {},
   "outputs": [
    {
     "data": {
      "text/plain": [
       "Text(0, 0.5, 'Median Income (dollars)')"
      ]
     },
     "execution_count": 161,
     "metadata": {},
     "output_type": "execute_result"
    },
    {
     "data": {
      "image/png": "[encoded data removed]",
      "text/plain": [
       "<Figure size 432x288 with 1 Axes>"
      ]
     },
     "metadata": {
      "needs_background": "light"
     },
     "output_type": "display_data"
    }
   ],
   "source": [
    "p1 = sns.regplot(x = aveincomebyresponse['Survey Response Rate Percent'],y = aveincomebyresponse['Median income (dollars)'], logx=True)\n",
    "p1.set_xlabel('Survey Response Rate %', fontsize = 16)\n",
    "p1.set_ylabel('Median Income (dollars)', fontsize = 16)"
   ]
  },
  {
   "cell_type": "code",
   "execution_count": 157,
   "id": "0538cfd4",
   "metadata": {},
   "outputs": [
    {
     "data": {
      "image/png": "[encoded data removed]",
      "text/plain": [
       "<Figure size 432x288 with 1 Axes>"
      ]
     },
     "metadata": {
      "needs_background": "light"
     },
     "output_type": "display_data"
    }
   ],
   "source": [
    "# Scatter plot of survey response rate vs. median income\n",
    "plt.scatter(x = aveincomebyresponse['Survey Response Rate Percent'], y = aveincomebyresponse['Median income (dollars)'])\n",
    "plt.title('Median Income by Survey Response Rate')\n",
    "plt.xlabel('Survey Response Rate %')\n",
    "plt.ylabel('Median Income (dollars)')\n",
    "plt.show()"
   ]
  },
  {
   "cell_type": "code",
   "execution_count": 176,
   "id": "1ae0cd45",
   "metadata": {},
   "outputs": [
    {
     "data": {
      "text/plain": [
       "Text(0, 0.5, 'Hospital Rating')"
      ]
     },
     "execution_count": 176,
     "metadata": {},
     "output_type": "execute_result"
    },
    {
     "data": {
      "image/png": "[encoded data removed]",
      "text/plain": [
       "<Figure size 432x288 with 1 Axes>"
      ]
     },
     "metadata": {
      "needs_background": "light"
     },
     "output_type": "display_data"
    }
   ],
   "source": [
    "p1 = sns.regplot(x = df2['Medicare_Spend'], y = df2['hospital_score'], logx=True, line_kws={'color':'red'})\n",
    "p1.set_xlabel('Medicare Spend Rating', fontsize = 16)\n",
    "p1.set_ylabel('Hospital Rating', fontsize = 16)"
   ]
  },
  {
   "cell_type": "code",
   "execution_count": 42,
   "id": "ac703e3f",
   "metadata": {
    "scrolled": true
   },
   "outputs": [
    {
     "data": {
      "image/png": "[encoded data removed]",
      "text/plain": [
       "<Figure size 432x288 with 1 Axes>"
      ]
     },
     "metadata": {
      "needs_background": "light"
     },
     "output_type": "display_data"
    }
   ],
   "source": [
    "# Scatter plot of medicare spend vs. hospital rating\n",
    "plt.scatter(x = df2['Medicare_Spend'], y = df2['hospital_score'])\n",
    "plt.title('Hospital Ratings by Medicare Spend')\n",
    "plt.xlabel('Medicare Spend Rating')\n",
    "plt.ylabel('Hospital Rating')\n",
    "plt.show()"
   ]
  },
  {
   "cell_type": "code",
   "execution_count": 84,
   "id": "966b153d",
   "metadata": {},
   "outputs": [
    {
     "data": {
      "text/plain": [
       "Text(0, 0.5, 'Hospital Score')"
      ]
     },
     "execution_count": 84,
     "metadata": {},
     "output_type": "execute_result"
    },
    {
     "data": {
      "image/png": "[encoded data removed]",
      "text/plain": [
       "<Figure size 432x288 with 1 Axes>"
      ]
     },
     "metadata": {
      "needs_background": "light"
     },
     "output_type": "display_data"
    }
   ],
   "source": [
    "p1 = sns.regplot(x = df2['Staff responsiveness - linear mean score'],y = df2['hospital_score'])\n",
    "p1.set_xlabel('Staff Responsiveness Rating', fontsize = 18)\n",
    "p1.set_ylabel('Hospital Score', fontsize = 18)"
   ]
  },
  {
   "cell_type": "code",
   "execution_count": 16,
   "id": "e3447f91",
   "metadata": {
    "scrolled": true
   },
   "outputs": [
    {
     "data": {
      "image/png": "[encoded data removed]",
      "text/plain": [
       "<Figure size 432x288 with 1 Axes>"
      ]
     },
     "metadata": {
      "needs_background": "light"
     },
     "output_type": "display_data"
    }
   ],
   "source": [
    "# Scatter plot of staff responsiveness vs. hospital rating\n",
    "plt.scatter(x = df2['Staff responsiveness - linear mean score'], y = df2['hospital_score'])\n",
    "plt.title('Hospital Ratings by Staff Responsiveness Scores')\n",
    "plt.xlabel('Staff Responsiveness Score')\n",
    "plt.ylabel('Hospital Score')\n",
    "plt.show()"
   ]
  },
  {
   "cell_type": "code",
   "execution_count": 85,
   "id": "3f7e6390",
   "metadata": {},
   "outputs": [
    {
     "data": {
      "text/plain": [
       "Text(0, 0.5, 'Hospital Score')"
      ]
     },
     "execution_count": 85,
     "metadata": {},
     "output_type": "execute_result"
    },
    {
     "data": {
      "image/png": "[encoded data removed]",
      "text/plain": [
       "<Figure size 432x288 with 1 Axes>"
      ]
     },
     "metadata": {
      "needs_background": "light"
     },
     "output_type": "display_data"
    }
   ],
   "source": [
    "p1 = sns.regplot(x = df2['Cleanliness - linear mean score'],y = df2['hospital_score'])\n",
    "p1.set_xlabel('Cleanliness Rating', fontsize = 18)\n",
    "p1.set_ylabel('Hospital Score', fontsize = 18)"
   ]
  },
  {
   "cell_type": "code",
   "execution_count": 17,
   "id": "4a788db3",
   "metadata": {},
   "outputs": [
    {
     "data": {
      "image/png": "[encoded data removed]",
      "text/plain": [
       "<Figure size 432x288 with 1 Axes>"
      ]
     },
     "metadata": {
      "needs_background": "light"
     },
     "output_type": "display_data"
    }
   ],
   "source": [
    "# Scatter plot of cleanliness vs. hospital rating\n",
    "plt.scatter(x = df2['Cleanliness - linear mean score'], y = df2['hospital_score'])\n",
    "plt.title('Hospital Ratings by Cleanliness Scores')\n",
    "plt.xlabel('Cleanliness Score')\n",
    "plt.ylabel('Hospital Rating')\n",
    "plt.show()"
   ]
  },
  {
   "cell_type": "code",
   "execution_count": 86,
   "id": "1e24c4f5",
   "metadata": {},
   "outputs": [
    {
     "data": {
      "text/plain": [
       "Text(0, 0.5, 'Hospital Score')"
      ]
     },
     "execution_count": 86,
     "metadata": {},
     "output_type": "execute_result"
    },
    {
     "data": {
      "image/png": "[encoded data removed]",
      "text/plain": [
       "<Figure size 432x288 with 1 Axes>"
      ]
     },
     "metadata": {
      "needs_background": "light"
     },
     "output_type": "display_data"
    }
   ],
   "source": [
    "p1 = sns.regplot(x = df2['Care transition - linear mean score'],y = df2['hospital_score'])\n",
    "p1.set_xlabel('Care Transition Rating', fontsize = 18)\n",
    "p1.set_ylabel('Hospital Score', fontsize = 18)"
   ]
  },
  {
   "cell_type": "code",
   "execution_count": 18,
   "id": "80b5c23d",
   "metadata": {},
   "outputs": [
    {
     "data": {
      "image/png": "[encoded data removed]",
      "text/plain": [
       "<Figure size 432x288 with 1 Axes>"
      ]
     },
     "metadata": {
      "needs_background": "light"
     },
     "output_type": "display_data"
    }
   ],
   "source": [
    "plt.scatter(x = df2['Care transition - linear mean score'], y = df2['hospital_score'])\n",
    "plt.title('Hospital Ratings by Care Transition Scores')\n",
    "plt.xlabel('Care Transition Score')\n",
    "plt.ylabel('Hospital Rating')\n",
    "plt.show()"
   ]
  },
  {
   "cell_type": "code",
   "execution_count": 87,
   "id": "7e292da3",
   "metadata": {},
   "outputs": [
    {
     "data": {
      "text/plain": [
       "Text(0, 0.5, 'Hospital Score')"
      ]
     },
     "execution_count": 87,
     "metadata": {},
     "output_type": "execute_result"
    },
    {
     "data": {
      "image/png": "[encoded data removed]",
      "text/plain": [
       "<Figure size 432x288 with 1 Axes>"
      ]
     },
     "metadata": {
      "needs_background": "light"
     },
     "output_type": "display_data"
    }
   ],
   "source": [
    "p1 = sns.regplot(x = df2['Discharge information - linear mean score'],y = df2['hospital_score'])\n",
    "p1.set_xlabel('Discharge Information Rating', fontsize = 18)\n",
    "p1.set_ylabel('Hospital Score', fontsize = 18)"
   ]
  },
  {
   "cell_type": "code",
   "execution_count": 19,
   "id": "9c768870",
   "metadata": {},
   "outputs": [
    {
     "data": {
      "image/png": "[encoded data removed]",
      "text/plain": [
       "<Figure size 432x288 with 1 Axes>"
      ]
     },
     "metadata": {
      "needs_background": "light"
     },
     "output_type": "display_data"
    }
   ],
   "source": [
    "plt.scatter(x = df2['Discharge information - linear mean score'], y = df2['hospital_score'])\n",
    "plt.title('Hospital Ratings by Discharge Information Scores')\n",
    "plt.xlabel('Discharge Information Score')\n",
    "plt.ylabel('Hospital Rating')\n",
    "plt.show()"
   ]
  },
  {
   "cell_type": "code",
   "execution_count": 153,
   "id": "928f63d0",
   "metadata": {},
   "outputs": [
    {
     "data": {
      "text/plain": [
       "Text(0, 0.5, 'Hospital Score')"
      ]
     },
     "execution_count": 153,
     "metadata": {},
     "output_type": "execute_result"
    },
    {
     "data": {
      "image/png": "[encoded data removed]",
      "text/plain": [
       "<Figure size 432x288 with 1 Axes>"
      ]
     },
     "metadata": {
      "needs_background": "light"
     },
     "output_type": "display_data"
    }
   ],
   "source": [
    "p1 = sns.regplot(x = df2['Median income (dollars)'],y = df2['hospital_score'], logx = True, line_kws={'color':'red'})\n",
    "p1.set_xlabel('Median Income', fontsize = 18)\n",
    "p1.set_ylabel('Hospital Score', fontsize = 18)"
   ]
  },
  {
   "cell_type": "code",
   "execution_count": 41,
   "id": "a1cb59d8",
   "metadata": {},
   "outputs": [
    {
     "data": {
      "image/png": "[encoded data removed]",
      "text/plain": [
       "<Figure size 432x288 with 1 Axes>"
      ]
     },
     "metadata": {
      "needs_background": "light"
     },
     "output_type": "display_data"
    }
   ],
   "source": [
    "# Scatter plot of staff responsiveness vs. hospital rating\n",
    "plt.scatter(x = df2['Median income (dollars)'], y = df2['hospital_score'])\n",
    "plt.title('Hospital Ratings by Median Income')\n",
    "plt.xlabel('Median Income')\n",
    "plt.ylabel('Hospital Rating')\n",
    "plt.show()"
   ]
  },
  {
   "cell_type": "code",
   "execution_count": 54,
   "id": "cd434b5b",
   "metadata": {},
   "outputs": [
    {
     "data": {
      "text/plain": [
       "Hospital Type\n",
       "Acute Care - Department of Defense          NaN\n",
       "Acute Care Hospitals                  87.393443\n",
       "Critical Access Hospitals                   NaN\n",
       "Name: hospital_score, dtype: float64"
      ]
     },
     "execution_count": 54,
     "metadata": {},
     "output_type": "execute_result"
    }
   ],
   "source": [
    "# Aggregate hospital score by Hospital Type\n",
    "df2.groupby('Hospital Type').agg('mean')['hospital_score']"
   ]
  },
  {
   "cell_type": "code",
   "execution_count": 90,
   "id": "6503eff5",
   "metadata": {},
   "outputs": [
    {
     "data": {
      "text/html": [
       "<div>\n",
       "<style scoped>\n",
       "    .dataframe tbody tr th:only-of-type {\n",
       "        vertical-align: middle;\n",
       "    }\n",
       "\n",
       "    .dataframe tbody tr th {\n",
       "        vertical-align: top;\n",
       "    }\n",
       "\n",
       "    .dataframe thead th {\n",
       "        text-align: right;\n",
       "    }\n",
       "</style>\n",
       "<table border=\"1\" class=\"dataframe\">\n",
       "  <thead>\n",
       "    <tr style=\"text-align: right;\">\n",
       "      <th></th>\n",
       "      <th>Hospital Ownership</th>\n",
       "      <th>hospital_score</th>\n",
       "    </tr>\n",
       "  </thead>\n",
       "  <tbody>\n",
       "    <tr>\n",
       "      <th>0</th>\n",
       "      <td>Department of Defense</td>\n",
       "      <td>NaN</td>\n",
       "    </tr>\n",
       "    <tr>\n",
       "      <th>1</th>\n",
       "      <td>Government - Federal</td>\n",
       "      <td>88.000000</td>\n",
       "    </tr>\n",
       "    <tr>\n",
       "      <th>2</th>\n",
       "      <td>Government - Hospital District or Authority</td>\n",
       "      <td>86.903101</td>\n",
       "    </tr>\n",
       "    <tr>\n",
       "      <th>3</th>\n",
       "      <td>Government - Local</td>\n",
       "      <td>87.207921</td>\n",
       "    </tr>\n",
       "    <tr>\n",
       "      <th>4</th>\n",
       "      <td>Government - State</td>\n",
       "      <td>86.968750</td>\n",
       "    </tr>\n",
       "    <tr>\n",
       "      <th>5</th>\n",
       "      <td>Physician</td>\n",
       "      <td>92.478261</td>\n",
       "    </tr>\n",
       "    <tr>\n",
       "      <th>6</th>\n",
       "      <td>Proprietary</td>\n",
       "      <td>86.039340</td>\n",
       "    </tr>\n",
       "    <tr>\n",
       "      <th>7</th>\n",
       "      <td>Tribal</td>\n",
       "      <td>89.750000</td>\n",
       "    </tr>\n",
       "    <tr>\n",
       "      <th>8</th>\n",
       "      <td>Voluntary non-profit - Church</td>\n",
       "      <td>87.628743</td>\n",
       "    </tr>\n",
       "    <tr>\n",
       "      <th>9</th>\n",
       "      <td>Voluntary non-profit - Other</td>\n",
       "      <td>87.638122</td>\n",
       "    </tr>\n",
       "    <tr>\n",
       "      <th>10</th>\n",
       "      <td>Voluntary non-profit - Private</td>\n",
       "      <td>87.641482</td>\n",
       "    </tr>\n",
       "  </tbody>\n",
       "</table>\n",
       "</div>"
      ],
      "text/plain": [
       "                             Hospital Ownership  hospital_score\n",
       "0                         Department of Defense             NaN\n",
       "1                          Government - Federal       88.000000\n",
       "2   Government - Hospital District or Authority       86.903101\n",
       "3                            Government - Local       87.207921\n",
       "4                            Government - State       86.968750\n",
       "5                                     Physician       92.478261\n",
       "6                                   Proprietary       86.039340\n",
       "7                                        Tribal       89.750000\n",
       "8                 Voluntary non-profit - Church       87.628743\n",
       "9                  Voluntary non-profit - Other       87.638122\n",
       "10               Voluntary non-profit - Private       87.641482"
      ]
     },
     "execution_count": 90,
     "metadata": {},
     "output_type": "execute_result"
    }
   ],
   "source": [
    "# Aggregate hospital score by Hospital Ownership\n",
    "ownerscores = df2.groupby('Hospital Ownership').agg('mean')['hospital_score'].reset_index()\n",
    "ownerscores"
   ]
  },
  {
   "cell_type": "code",
   "execution_count": 93,
   "id": "ca7cbecd",
   "metadata": {},
   "outputs": [
    {
     "data": {
      "text/plain": [
       "87.37421837421837"
      ]
     },
     "execution_count": 93,
     "metadata": {},
     "output_type": "execute_result"
    }
   ],
   "source": [
    "avescore = df2['hospital_score'].mean()\n",
    "avescore"
   ]
  },
  {
   "cell_type": "code",
   "execution_count": 145,
   "id": "008d105f",
   "metadata": {},
   "outputs": [
    {
     "data": {
      "text/plain": [
       "Text(0.55, 88, 'Average Score: 87.4')"
      ]
     },
     "execution_count": 145,
     "metadata": {},
     "output_type": "execute_result"
    },
    {
     "data": {
      "image/png": "[encoded data removed]",
      "text/plain": [
       "<Figure size 432x288 with 1 Axes>"
      ]
     },
     "metadata": {
      "needs_background": "light"
     },
     "output_type": "display_data"
    }
   ],
   "source": [
    "plotowners = ownerscores[ownerscores['Hospital Ownership'].isin(['Physician','Proprietary'])]\n",
    "plotowners\n",
    "plt.bar(plotowners['Hospital Ownership'], plotowners['hospital_score'])\n",
    "plt.ylim(70,100)\n",
    "plt.title('Average Hospital Score by Ownership Type', fontsize=16)\n",
    "plt.ylabel('Hospital Score', fontsize=15)\n",
    "plt.axhline(y=87.37421837421837, color='black', linestyle='-')\n",
    "plt.text(x = -0.08, y =90, s = '92.5', color = 'white', fontsize = 14)\n",
    "plt.text(x = .95, y = 83, s = '86', color = 'white', fontsize = 14)\n",
    "plt.text(x = .55, y = 88, s = 'Average Score: 87.4', fontsize = 14)"
   ]
  },
  {
   "cell_type": "code",
   "execution_count": 56,
   "id": "98f1e52f",
   "metadata": {},
   "outputs": [
    {
     "data": {
      "text/plain": [
       "Emergency Services\n",
       "No     90.933628\n",
       "Yes    87.201392\n",
       "Name: hospital_score, dtype: float64"
      ]
     },
     "execution_count": 56,
     "metadata": {},
     "output_type": "execute_result"
    }
   ],
   "source": [
    "# Aggregate hospital score by Emergency Services\n",
    "df2.groupby('Emergency Services').agg('mean')['hospital_score']"
   ]
  },
  {
   "cell_type": "markdown",
   "id": "d668fdf1",
   "metadata": {},
   "source": [
    "## Create Dummy Variables"
   ]
  },
  {
   "cell_type": "code",
   "execution_count": 57,
   "id": "88e1371c",
   "metadata": {},
   "outputs": [
    {
     "data": {
      "text/html": [
       "<div>\n",
       "<style scoped>\n",
       "    .dataframe tbody tr th:only-of-type {\n",
       "        vertical-align: middle;\n",
       "    }\n",
       "\n",
       "    .dataframe tbody tr th {\n",
       "        vertical-align: top;\n",
       "    }\n",
       "\n",
       "    .dataframe thead th {\n",
       "        text-align: right;\n",
       "    }\n",
       "</style>\n",
       "<table border=\"1\" class=\"dataframe\">\n",
       "  <thead>\n",
       "    <tr style=\"text-align: right;\">\n",
       "      <th></th>\n",
       "      <th>Facility ID</th>\n",
       "      <th>Care transition - linear mean score</th>\n",
       "      <th>Cleanliness - linear mean score</th>\n",
       "      <th>Communication about medicines - linear mean score</th>\n",
       "      <th>Discharge information - linear mean score</th>\n",
       "      <th>Doctor communication - linear mean score</th>\n",
       "      <th>Nurse communication - linear mean score</th>\n",
       "      <th>Overall hospital rating - linear mean score</th>\n",
       "      <th>Quietness - linear mean score</th>\n",
       "      <th>Recommend hospital - linear mean score</th>\n",
       "      <th>...</th>\n",
       "      <th>Hospital Ownership_Government - Local</th>\n",
       "      <th>Hospital Ownership_Government - State</th>\n",
       "      <th>Hospital Ownership_Physician</th>\n",
       "      <th>Hospital Ownership_Proprietary</th>\n",
       "      <th>Hospital Ownership_Tribal</th>\n",
       "      <th>Hospital Ownership_Voluntary non-profit - Church</th>\n",
       "      <th>Hospital Ownership_Voluntary non-profit - Other</th>\n",
       "      <th>Hospital Ownership_Voluntary non-profit - Private</th>\n",
       "      <th>Emergency Services_No</th>\n",
       "      <th>Emergency Services_Yes</th>\n",
       "    </tr>\n",
       "  </thead>\n",
       "  <tbody>\n",
       "    <tr>\n",
       "      <th>0</th>\n",
       "      <td>100001</td>\n",
       "      <td>80.0</td>\n",
       "      <td>83.0</td>\n",
       "      <td>76.0</td>\n",
       "      <td>86.0</td>\n",
       "      <td>89.0</td>\n",
       "      <td>89.0</td>\n",
       "      <td>86.0</td>\n",
       "      <td>82.0</td>\n",
       "      <td>86.0</td>\n",
       "      <td>...</td>\n",
       "      <td>0</td>\n",
       "      <td>0</td>\n",
       "      <td>0</td>\n",
       "      <td>0</td>\n",
       "      <td>0</td>\n",
       "      <td>0</td>\n",
       "      <td>0</td>\n",
       "      <td>1</td>\n",
       "      <td>0</td>\n",
       "      <td>1</td>\n",
       "    </tr>\n",
       "    <tr>\n",
       "      <th>1</th>\n",
       "      <td>100002</td>\n",
       "      <td>75.0</td>\n",
       "      <td>81.0</td>\n",
       "      <td>68.0</td>\n",
       "      <td>77.0</td>\n",
       "      <td>86.0</td>\n",
       "      <td>86.0</td>\n",
       "      <td>84.0</td>\n",
       "      <td>84.0</td>\n",
       "      <td>83.0</td>\n",
       "      <td>...</td>\n",
       "      <td>0</td>\n",
       "      <td>0</td>\n",
       "      <td>0</td>\n",
       "      <td>0</td>\n",
       "      <td>0</td>\n",
       "      <td>0</td>\n",
       "      <td>0</td>\n",
       "      <td>1</td>\n",
       "      <td>0</td>\n",
       "      <td>1</td>\n",
       "    </tr>\n",
       "    <tr>\n",
       "      <th>2</th>\n",
       "      <td>100006</td>\n",
       "      <td>82.0</td>\n",
       "      <td>87.0</td>\n",
       "      <td>73.0</td>\n",
       "      <td>85.0</td>\n",
       "      <td>91.0</td>\n",
       "      <td>91.0</td>\n",
       "      <td>89.0</td>\n",
       "      <td>85.0</td>\n",
       "      <td>90.0</td>\n",
       "      <td>...</td>\n",
       "      <td>0</td>\n",
       "      <td>0</td>\n",
       "      <td>0</td>\n",
       "      <td>0</td>\n",
       "      <td>0</td>\n",
       "      <td>0</td>\n",
       "      <td>0</td>\n",
       "      <td>1</td>\n",
       "      <td>0</td>\n",
       "      <td>1</td>\n",
       "    </tr>\n",
       "    <tr>\n",
       "      <th>3</th>\n",
       "      <td>100007</td>\n",
       "      <td>82.0</td>\n",
       "      <td>88.0</td>\n",
       "      <td>78.0</td>\n",
       "      <td>87.0</td>\n",
       "      <td>89.0</td>\n",
       "      <td>91.0</td>\n",
       "      <td>89.0</td>\n",
       "      <td>87.0</td>\n",
       "      <td>89.0</td>\n",
       "      <td>...</td>\n",
       "      <td>0</td>\n",
       "      <td>0</td>\n",
       "      <td>0</td>\n",
       "      <td>0</td>\n",
       "      <td>0</td>\n",
       "      <td>0</td>\n",
       "      <td>0</td>\n",
       "      <td>1</td>\n",
       "      <td>0</td>\n",
       "      <td>1</td>\n",
       "    </tr>\n",
       "    <tr>\n",
       "      <th>4</th>\n",
       "      <td>100008</td>\n",
       "      <td>81.0</td>\n",
       "      <td>83.0</td>\n",
       "      <td>74.0</td>\n",
       "      <td>82.0</td>\n",
       "      <td>92.0</td>\n",
       "      <td>89.0</td>\n",
       "      <td>87.0</td>\n",
       "      <td>84.0</td>\n",
       "      <td>89.0</td>\n",
       "      <td>...</td>\n",
       "      <td>0</td>\n",
       "      <td>0</td>\n",
       "      <td>0</td>\n",
       "      <td>0</td>\n",
       "      <td>0</td>\n",
       "      <td>0</td>\n",
       "      <td>0</td>\n",
       "      <td>1</td>\n",
       "      <td>0</td>\n",
       "      <td>1</td>\n",
       "    </tr>\n",
       "  </tbody>\n",
       "</table>\n",
       "<p>5 rows × 29 columns</p>\n",
       "</div>"
      ],
      "text/plain": [
       "  Facility ID  Care transition - linear mean score  \\\n",
       "0      100001                                 80.0   \n",
       "1      100002                                 75.0   \n",
       "2      100006                                 82.0   \n",
       "3      100007                                 82.0   \n",
       "4      100008                                 81.0   \n",
       "\n",
       "   Cleanliness - linear mean score  \\\n",
       "0                             83.0   \n",
       "1                             81.0   \n",
       "2                             87.0   \n",
       "3                             88.0   \n",
       "4                             83.0   \n",
       "\n",
       "   Communication about medicines - linear mean score  \\\n",
       "0                                               76.0   \n",
       "1                                               68.0   \n",
       "2                                               73.0   \n",
       "3                                               78.0   \n",
       "4                                               74.0   \n",
       "\n",
       "   Discharge information - linear mean score  \\\n",
       "0                                       86.0   \n",
       "1                                       77.0   \n",
       "2                                       85.0   \n",
       "3                                       87.0   \n",
       "4                                       82.0   \n",
       "\n",
       "   Doctor communication - linear mean score  \\\n",
       "0                                      89.0   \n",
       "1                                      86.0   \n",
       "2                                      91.0   \n",
       "3                                      89.0   \n",
       "4                                      92.0   \n",
       "\n",
       "   Nurse communication - linear mean score  \\\n",
       "0                                     89.0   \n",
       "1                                     86.0   \n",
       "2                                     91.0   \n",
       "3                                     91.0   \n",
       "4                                     89.0   \n",
       "\n",
       "   Overall hospital rating - linear mean score  Quietness - linear mean score  \\\n",
       "0                                         86.0                           82.0   \n",
       "1                                         84.0                           84.0   \n",
       "2                                         89.0                           85.0   \n",
       "3                                         89.0                           87.0   \n",
       "4                                         87.0                           84.0   \n",
       "\n",
       "   Recommend hospital - linear mean score  ...  \\\n",
       "0                                    86.0  ...   \n",
       "1                                    83.0  ...   \n",
       "2                                    90.0  ...   \n",
       "3                                    89.0  ...   \n",
       "4                                    89.0  ...   \n",
       "\n",
       "   Hospital Ownership_Government - Local  \\\n",
       "0                                      0   \n",
       "1                                      0   \n",
       "2                                      0   \n",
       "3                                      0   \n",
       "4                                      0   \n",
       "\n",
       "   Hospital Ownership_Government - State  Hospital Ownership_Physician  \\\n",
       "0                                      0                             0   \n",
       "1                                      0                             0   \n",
       "2                                      0                             0   \n",
       "3                                      0                             0   \n",
       "4                                      0                             0   \n",
       "\n",
       "   Hospital Ownership_Proprietary  Hospital Ownership_Tribal  \\\n",
       "0                               0                          0   \n",
       "1                               0                          0   \n",
       "2                               0                          0   \n",
       "3                               0                          0   \n",
       "4                               0                          0   \n",
       "\n",
       "   Hospital Ownership_Voluntary non-profit - Church  \\\n",
       "0                                                 0   \n",
       "1                                                 0   \n",
       "2                                                 0   \n",
       "3                                                 0   \n",
       "4                                                 0   \n",
       "\n",
       "   Hospital Ownership_Voluntary non-profit - Other  \\\n",
       "0                                                0   \n",
       "1                                                0   \n",
       "2                                                0   \n",
       "3                                                0   \n",
       "4                                                0   \n",
       "\n",
       "   Hospital Ownership_Voluntary non-profit - Private  Emergency Services_No  \\\n",
       "0                                                  1                      0   \n",
       "1                                                  1                      0   \n",
       "2                                                  1                      0   \n",
       "3                                                  1                      0   \n",
       "4                                                  1                      0   \n",
       "\n",
       "   Emergency Services_Yes  \n",
       "0                       1  \n",
       "1                       1  \n",
       "2                       1  \n",
       "3                       1  \n",
       "4                       1  \n",
       "\n",
       "[5 rows x 29 columns]"
      ]
     },
     "execution_count": 57,
     "metadata": {},
     "output_type": "execute_result"
    }
   ],
   "source": [
    "df2 = pd.get_dummies(data = df2, columns = ['Hospital Type','Hospital Ownership','Emergency Services'])\n",
    "df2.head()"
   ]
  },
  {
   "cell_type": "code",
   "execution_count": 62,
   "id": "24c2644b",
   "metadata": {},
   "outputs": [],
   "source": [
    "# Set predictor and target features\n",
    "X = df2.drop(columns=['Facility ID',\n",
    "                     'Overall hospital rating - linear mean score',\n",
    "                     'Recommend hospital - linear mean score',\n",
    "                     'hospital_score'])\n",
    "\n",
    "y = df2.hospital_score\n",
    "X_train, X_test, y_train, y_test = train_test_split(X, y, test_size=0.33, random_state=42)"
   ]
  },
  {
   "cell_type": "markdown",
   "id": "94479758",
   "metadata": {},
   "source": [
    "## Rerun Model with New Data"
   ]
  },
  {
   "cell_type": "code",
   "execution_count": 63,
   "id": "b1246c2d",
   "metadata": {},
   "outputs": [],
   "source": [
    "# Standardize Data\n",
    "sc = StandardScaler()\n",
    "X_train_scaled = sc.fit_transform(X_train)\n",
    "X_test_scaled = sc.fit_transform(X_test)"
   ]
  },
  {
   "cell_type": "code",
   "execution_count": 153,
   "id": "616051bf",
   "metadata": {},
   "outputs": [
    {
     "name": "stdout",
     "output_type": "stream",
     "text": [
      "Fitting 5 folds for each of 36 candidates, totalling 180 fits\n",
      "Best params = {'colsample_bytree': 1, 'learning_rate': 0.02, 'max_depth': 3, 'n_estimators': 400, 'subsample': 0.75}\n",
      "Best score = 0.8214601199141832\n"
     ]
    }
   ],
   "source": [
    "# XGBoost Regressor\n",
    "xgb = XGBRegressor(n_jobs=-1, tree_method='gpu_hist')\n",
    "\n",
    "params = {\n",
    "    'n_estimators': [300, 400],\n",
    "    'max_depth': [2, 3],\n",
    "    'learning_rate': [0.02, 0.08, 0.05],\n",
    "    'subsample': [0.75, 0.8, 0.9],\n",
    "    'colsample_bytree': [1]\n",
    "}\n",
    "\n",
    "xgb_gs = GridSearchCV(xgb, params, cv=5, verbose=1, n_jobs=-1, scoring='r2')\n",
    "xgb_gs.fit(X_scaled, y)\n",
    "\n",
    "xgb_best = xgb_gs.best_estimator_\n",
    "\n",
    "print(f\"Best params = {xgb_gs.best_params_}\")\n",
    "print(f\"Best score = {xgb_gs.best_score_}\")"
   ]
  },
  {
   "cell_type": "markdown",
   "id": "39bc1460",
   "metadata": {},
   "source": [
    "### This chunk is for my non-gpu machine"
   ]
  },
  {
   "cell_type": "code",
   "execution_count": 64,
   "id": "4f0473f2",
   "metadata": {},
   "outputs": [],
   "source": [
    "para = {'colsample_bytree': 1, 'learning_rate': 0.02, 'max_depth': 3, 'n_estimators': 400, 'subsample': 0.75}\n",
    "xgb_best = XGBRegressor(**para)"
   ]
  },
  {
   "cell_type": "code",
   "execution_count": 65,
   "id": "cfa9fd15",
   "metadata": {},
   "outputs": [
    {
     "name": "stdout",
     "output_type": "stream",
     "text": [
      "[0.4415938  0.03526787 0.02067428 0.01579801 0.0667723  0.23563348\n",
      " 0.0372417  0.02216958 0.01586113 0.         0.         0.\n",
      " 0.         0.         0.01172905 0.01220662 0.00893654 0.\n",
      " 0.01821177 0.         0.01125144 0.01442409 0.01585532 0.01637305\n",
      " 0.        ]\n"
     ]
    },
    {
     "data": {
      "image/png": "[encoded data removed]",
      "text/plain": [
       "<Figure size 432x288 with 1 Axes>"
      ]
     },
     "metadata": {
      "needs_background": "light"
     },
     "output_type": "display_data"
    }
   ],
   "source": [
    "xgb_best.fit(X_train, y_train)\n",
    "# feature importance\n",
    "print(xgb_best.feature_importances_)\n",
    "# plot\n",
    "plot_importance(xgb_best)\n",
    "plt.show()"
   ]
  },
  {
   "cell_type": "markdown",
   "id": "3e3c56bf",
   "metadata": {},
   "source": [
    "### Feature selection to look at number of variables and associated R2\n",
    "#### based off this link https://machinelearningmastery.com/feature-importance-and-feature-selection-with-xgboost-in-python/"
   ]
  },
  {
   "cell_type": "code",
   "execution_count": 71,
   "id": "ad41ac7e",
   "metadata": {},
   "outputs": [
    {
     "name": "stdout",
     "output_type": "stream",
     "text": [
      "Thresh=0.000, n=25, Accuracy: 81.55%\n",
      "Thresh=0.000, n=25, Accuracy: 81.55%\n",
      "Thresh=0.000, n=25, Accuracy: 81.55%\n",
      "Thresh=0.000, n=25, Accuracy: 81.55%\n",
      "Thresh=0.000, n=25, Accuracy: 81.55%\n",
      "Thresh=0.000, n=25, Accuracy: 81.55%\n",
      "Thresh=0.000, n=25, Accuracy: 81.55%\n",
      "Thresh=0.000, n=25, Accuracy: 81.55%\n",
      "Thresh=0.009, n=17, Accuracy: 81.55%\n",
      "Thresh=0.011, n=16, Accuracy: 81.58%\n",
      "Thresh=0.012, n=15, Accuracy: 81.56%\n",
      "Thresh=0.012, n=14, Accuracy: 81.48%\n",
      "Thresh=0.014, n=13, Accuracy: 81.54%\n",
      "Thresh=0.016, n=12, Accuracy: 81.68%\n",
      "Thresh=0.016, n=11, Accuracy: 81.38%\n",
      "Thresh=0.016, n=10, Accuracy: 81.41%\n",
      "Thresh=0.016, n=9, Accuracy: 81.08%\n",
      "Thresh=0.018, n=8, Accuracy: 81.20%\n",
      "Thresh=0.021, n=7, Accuracy: 81.53%\n",
      "Thresh=0.022, n=6, Accuracy: 81.12%\n",
      "Thresh=0.035, n=5, Accuracy: 81.63%\n",
      "Thresh=0.037, n=4, Accuracy: 80.49%\n",
      "Thresh=0.067, n=3, Accuracy: 80.14%\n",
      "Thresh=0.236, n=2, Accuracy: 79.84%\n",
      "Thresh=0.442, n=1, Accuracy: 76.36%\n"
     ]
    }
   ],
   "source": [
    "thresholds = sort(xgb_best.feature_importances_)\n",
    "for thresh in thresholds:\n",
    "    para = {'colsample_bytree': 1, 'learning_rate': 0.02, 'max_depth': 3, 'n_estimators': 400, 'subsample': 0.75}\n",
    "    # select features using threshold\n",
    "    selection = SelectFromModel(xgb_best, threshold=thresh, prefit=True)\n",
    "    select_X_train = selection.transform(X_train)\n",
    "    # train model\n",
    "    selection_model = XGBRegressor(**para)\n",
    "    selection_model.fit(select_X_train, y_train)\n",
    "    # eval model\n",
    "    select_X_test = selection.transform(X_test)\n",
    "    y_pred = selection_model.predict(select_X_test)\n",
    "    predictions = [round(value) for value in y_pred]\n",
    "    accuracy = r2_score(y_test, predictions)\n",
    "    print(\"Thresh=%.3f, n=%d, Accuracy: %.2f%%\" % (thresh, select_X_train.shape[1], accuracy*100.0))"
   ]
  },
  {
   "cell_type": "code",
   "execution_count": null,
   "id": "90ee9629",
   "metadata": {},
   "outputs": [],
   "source": []
  },
  {
   "cell_type": "code",
   "execution_count": null,
   "id": "5afc2dde",
   "metadata": {},
   "outputs": [],
   "source": []
  }
 ],
 "metadata": {
  "hide_input": false,
  "kernelspec": {
   "display_name": "Python 3",
   "language": "python",
   "name": "python3"
  },
  "language_info": {
   "codemirror_mode": {
    "name": "ipython",
    "version": 3
   },
   "file_extension": ".py",
   "mimetype": "text/x-python",
   "name": "python",
   "nbconvert_exporter": "python",
   "pygments_lexer": "ipython3",
   "version": "3.8.8"
  }
 },
 "nbformat": 4,
 "nbformat_minor": 5
}
